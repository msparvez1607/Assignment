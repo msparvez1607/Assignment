{
 "cells": [
  {
   "cell_type": "code",
   "execution_count": 2,
   "id": "9e35d838-feb0-4cbf-abd3-b6d00d6a664e",
   "metadata": {},
   "outputs": [],
   "source": [
    "#What is the difference between a function and a method in Python?\n",
    "#A function is a standalone block of code that performs a specific task.\n",
    "#It is defined using the def keyword, outside any class.\n",
    "#Functions can be called independently, without requiring an instance of a class.\n",
    "def greet():\n",
    "    print(\"Hello!\")\n",
    "    greet()  # Call function directly\n",
    "#A method is similar to a function but is associated with an object and defined within a class\n",
    "#It typically operates on the data (attributes) within the class it belongs to.\n",
    "#The first parameter of a method is usually self, representing the instance on which the method is called.\n",
    "class Greeter:\n",
    "    def greet(self):\n",
    "        print(\"Hello!\")\n",
    "\n",
    "greeter = Greeter()\n",
    "greeter.greet()  # Call method on an instance\n"
   ]
  },
  {
   "cell_type": "code",
   "execution_count": null,
   "id": "a061a7ac-ea09-4c64-906c-92bf5ffd6d6e",
   "metadata": {},
   "outputs": [],
   "source": [
    "#Explain the concept of function arguments and parameters in Python.\n",
    "#Parameters are variables listed in a function's definition. They act as placeholders for the values that the function expects when it's called.\n",
    "#Parameters are defined within the parentheses of a function definition\n",
    "def greet(name):  # 'name' is a parameter\n",
    "    print(f\"Hello, {name}!\")\n",
    "# Arguments are the actual values supplied to the function when it is called. They match up with the function’s parameters.\n",
    "# When you call a function, you pass arguments within the parentheses\n",
    "greet(\"Alice\")  # \"Alice\" is an argument\n"
   ]
  },
  {
   "cell_type": "code",
   "execution_count": null,
   "id": "d684600e-8d7b-48ba-9895-b59cea619fef",
   "metadata": {},
   "outputs": [],
   "source": [
    "# What are the different ways to define and call a function in Python?\n",
    "# Different ways to define and  call a function in python are as follows:\n",
    "# Regular Function with Positional Arguments\n",
    "def add(a, b):\n",
    "    return a + b\n",
    "\n",
    "result = add(3, 5)  # Positional arguments 3 and 5\n",
    "\n",
    "#Function with Default Arguments\n",
    "def greet(name, message=\"Hello\"):\n",
    "    print(f\"{message}, {name}!\")\n",
    "\n",
    "greet(\"Alice\")            # Uses default message \"Hello\"\n",
    "greet(\"Bob\", \"Hi there\")   # Overrides default message\n",
    "\n",
    "#Function with Keyword Arguments\n",
    "def introduce(name, age, country):\n",
    "    print(f\"{name} is {age} years old from {country}.\")\n",
    "\n",
    "introduce(age=30, country=\"USA\", name=\"Alice\")  # Keyword arguments\n",
    "\n",
    "#. Variable-Length Arguments (*args)\n",
    "def total_sum(*args):\n",
    "    return sum(args)\n",
    "\n",
    "total = total_sum(1, 2, 3, 4, 5)  # Accepts any number of positional arguments\n",
    "\n",
    "\n",
    "#Variable-Length Keyword Arguments (**kwargs)\n",
    "def greet_all(**kwargs):\n",
    "    for name, message in kwargs.items():\n",
    "        print(f\"{message}, {name}!\")\n",
    "\n",
    "greet_all(Alice=\"Hi\", Bob=\"Hello\", Charlie=\"Good day\")  # Keyword arguments as dictionary\n",
    "\n",
    "\n",
    "#Lambda Functions\n",
    "add = lambda x, y: x + y\n",
    "result = add(5, 10)  # Lambda function call\n",
    "\n",
    "#Function as an Argument\n",
    "def apply_twice(func, value):\n",
    "    return func(func(value))\n",
    "\n",
    "double = lambda x: x * 2\n",
    "result = apply_twice(double, 5)  # double(5) is applied twice\n",
    "\n",
    "#Anonymous Function Call (Direct Lambda)\n",
    "result = (lambda x, y: x * y)(4, 5)  # Anonymous function call\n",
    "\n",
    "# Nested function\n",
    "def outer_function(text):\n",
    "    def inner_function():\n",
    "        print(text)\n",
    "    inner_function()\n",
    "\n",
    "outer_function(\"Hello from the outer function!\")\n",
    "\n",
    "# Recursive function\n",
    "def factorial(n):\n",
    "    if n == 1:\n",
    "        return 1\n",
    "    return n * factorial(n - 1)\n",
    "\n",
    "result = factorial(5)  # Recursive function call\n",
    "\n"
   ]
  },
  {
   "cell_type": "code",
   "execution_count": 2,
   "id": "980da911-b5cd-4db5-822f-c61c680bcb80",
   "metadata": {},
   "outputs": [],
   "source": [
    "#What is the purpose of the `return` statement in a Python function\n",
    "# The return statement is essential for:\n",
    "# Sending results back to the caller.\n",
    "# Controlling the flow of execution by exiting functions early\n",
    "# Handling multiple outputs with a single statement\n",
    "# Indicating no return value with None\n",
    "# The return statement is a key part of making functions versatile and reusable.\n"
   ]
  },
  {
   "cell_type": "code",
   "execution_count": null,
   "id": "568efca3-e75e-4c9c-81d6-f0aaaf764a22",
   "metadata": {},
   "outputs": [],
   "source": [
    "#What are iterators in Python and how do they differ from iterables\n",
    "#An iterable is an object that can be iterated over (like a list), while an iterator is an object with a __next__() method. \n",
    "#For example, lists are iterable, and calling iter() on a list provides an iterator.\n"
   ]
  },
  {
   "cell_type": "code",
   "execution_count": null,
   "id": "be231e7d-c901-4946-834a-49e4dc248989",
   "metadata": {},
   "outputs": [],
   "source": [
    "#Explain the concept of generators in Python and how they are defined\n",
    "#Generators are special functions that yield items one at a time using the yield keyword. \n",
    "\n",
    "#What are the advantages of using generators over regular functions\n",
    "#They allow for memory-efficient iteration, especially over large datasets.\n",
    "#Generators are memory efficient, provide better performance for large datasets, and enable lazy evaluation \n",
    "#(only generating values as needed)\n",
    "\n"
   ]
  },
  {
   "cell_type": "code",
   "execution_count": null,
   "id": "f0554c6d-d1bc-495b-a754-4f3f37f4f6b5",
   "metadata": {},
   "outputs": [],
   "source": [
    "#. What is a lambda function in Python and when is it typically used?\n",
    "#Lambda functions are small anonymous functions with a single expression, used for short, simple functions.\n",
    "#Example:\n",
    "square = lambda x: x ** 2\n",
    "\n"
   ]
  },
  {
   "cell_type": "code",
   "execution_count": null,
   "id": "e44e512b-9618-4c9b-a8ed-811f062304ee",
   "metadata": {},
   "outputs": [],
   "source": [
    "#Explain the purpose and usage of the `map()` function in Python\n",
    "#map() applies a function to all items in an iterable and returns a map object. \n",
    "#Example:\n",
    "map(lambda x: x*2, [1, 2, 3])\n"
   ]
  },
  {
   "cell_type": "code",
   "execution_count": null,
   "id": "9d0bed9a-e492-43da-a5f2-58899a3e3377",
   "metadata": {},
   "outputs": [],
   "source": [
    "#What is the difference between `map()`, `reduce()`, and `filter()` functions in Python\n",
    "#map() applies a function to each item; \n",
    "#Example- Converting list of temperature from celcius to fahrenheit\n",
    "celsius_temps = [0, 20, 30, 40]\n",
    "fahrenheit_temps = list(map(lambda c: (c * 9/5) + 32, celsius_temps))\n",
    "print(fahrenheit_temps)  # Output: [32.0, 68.0, 86.0, 104.0]\n",
    "\n",
    "\n",
    "#filter() returns items that satisfy a condition; \n",
    "#Example: Filtering even numbers from a list\n",
    "numbers = [1, 2, 3, 4, 5, 6]\n",
    "even_numbers = list(filter(lambda x: x % 2 == 0, numbers))\n",
    "print(even_numbers)  # Output: [2, 4, 6]\n",
    "\n",
    "\n",
    "#reduce() accumulates values to produce a single output.\n",
    "#Example:Summing a list of numbers\n",
    "from functools import reduce\n",
    "\n",
    "numbers = [5, 10, 15, 20]\n",
    "sum_total = reduce(lambda x, y: x + y, numbers)\n",
    "print(sum_total)  # Output: 50"
   ]
  },
  {
   "cell_type": "code",
   "execution_count": 1,
   "id": "112bf972-b7ce-414f-82c7-a7ca8ec5da6d",
   "metadata": {},
   "outputs": [],
   "source": [
    "#Using pen & Paper write the internal mechanism for sum operation using  reduce function on this given\n",
    "#list [47,11,42,13]\n",
    "from functools import reduce\n",
    "result = reduce(lambda x, y: x + y, [47, 11, 42, 13])\n"
   ]
  },
  {
   "cell_type": "markdown",
   "id": "15fefd70-0673-46eb-900d-69247941cc8a",
   "metadata": {},
   "source": [
    ")![Image description](C:\\Users\\sarim\\Downloads\\reduce_image.jpg)\r\n",
    "\r\n"
   ]
  },
  {
   "cell_type": "code",
   "execution_count": null,
   "id": "dca3072f-707f-4f7a-a573-ba423d047928",
   "metadata": {},
   "outputs": [],
   "source": []
  },
  {
   "cell_type": "code",
   "execution_count": null,
   "id": "076a3b94-8a28-4601-ac62-23ea9d493912",
   "metadata": {},
   "outputs": [],
   "source": []
  },
  {
   "cell_type": "code",
   "execution_count": 3,
   "id": "54149bb5-2b2e-454b-b092-1d787454a544",
   "metadata": {},
   "outputs": [],
   "source": [
    "#Write a Python function that takes a list of numbers as input and returns the sum of all even numbers in the list.\n",
    "def even(l):\n",
    "    sum=0\n",
    "    for i in l:\n",
    "        if i%2==0:\n",
    "            sum=sum+i\n",
    "    return sum "
   ]
  },
  {
   "cell_type": "code",
   "execution_count": 2,
   "id": "b93e8837-5566-4707-9d17-3bbebed7d23b",
   "metadata": {},
   "outputs": [
    {
     "data": {
      "text/plain": [
       "20"
      ]
     },
     "execution_count": 2,
     "metadata": {},
     "output_type": "execute_result"
    }
   ],
   "source": [
    "even([2,3,4,5,6,7,8])"
   ]
  },
  {
   "cell_type": "code",
   "execution_count": 22,
   "id": "52f4695b-40a1-46f8-b6e1-6559a6b16e81",
   "metadata": {},
   "outputs": [],
   "source": [
    "#. Create a Python function that accepts a string and returns the reverse of that string.\n",
    "def reverse(w):\n",
    "   return w[::-1]"
   ]
  },
  {
   "cell_type": "code",
   "execution_count": 23,
   "id": "a54d4394-08d9-4784-ae18-2d06a77f5e5b",
   "metadata": {},
   "outputs": [
    {
     "data": {
      "text/plain": [
       "'lahaM jaT'"
      ]
     },
     "execution_count": 23,
     "metadata": {},
     "output_type": "execute_result"
    }
   ],
   "source": [
    "reverse('Taj Mahal')"
   ]
  },
  {
   "cell_type": "code",
   "execution_count": 30,
   "id": "2863a1ef-cb4b-49a4-be86-32647f4fda43",
   "metadata": {},
   "outputs": [],
   "source": [
    "# Implement a Python function that takes a list of integers and returns a new list containing the squares of each number.\n",
    "def square(l):\n",
    "    sq_list=[]\n",
    "    for i in l:\n",
    "        sq_list.append(i*i)\n",
    "    return sq_list\n",
    "        "
   ]
  },
  {
   "cell_type": "code",
   "execution_count": 31,
   "id": "e63960ef-b7c3-4372-ba6f-c489b1ce1057",
   "metadata": {},
   "outputs": [
    {
     "data": {
      "text/plain": [
       "[4, 9, 16, 25, 36, 49, 64]"
      ]
     },
     "execution_count": 31,
     "metadata": {},
     "output_type": "execute_result"
    }
   ],
   "source": [
    "square([2,3,4,5,6,7,8])"
   ]
  },
  {
   "cell_type": "code",
   "execution_count": 5,
   "id": "5a87f3c6-3d84-4dd6-8d0b-b598679c1517",
   "metadata": {},
   "outputs": [],
   "source": [
    "# Write a Python function that checks if a given number is prime or not from 1 to 200.\n",
    "def prime():\n",
    "    p=[]\n",
    "    for i in range (2,201):\n",
    "        c=0\n",
    "        for j in range(1,i):\n",
    "            if i%j==0:\n",
    "                c+=1\n",
    "        if c==1:\n",
    "            p.append(i)\n",
    "    return p\n",
    "                \n",
    "         \n",
    "            "
   ]
  },
  {
   "cell_type": "code",
   "execution_count": 6,
   "id": "d8d30477-e639-4440-a2ce-00432fcc31a8",
   "metadata": {},
   "outputs": [
    {
     "data": {
      "text/plain": [
       "[2,\n",
       " 3,\n",
       " 5,\n",
       " 7,\n",
       " 11,\n",
       " 13,\n",
       " 17,\n",
       " 19,\n",
       " 23,\n",
       " 29,\n",
       " 31,\n",
       " 37,\n",
       " 41,\n",
       " 43,\n",
       " 47,\n",
       " 53,\n",
       " 59,\n",
       " 61,\n",
       " 67,\n",
       " 71,\n",
       " 73,\n",
       " 79,\n",
       " 83,\n",
       " 89,\n",
       " 97,\n",
       " 101,\n",
       " 103,\n",
       " 107,\n",
       " 109,\n",
       " 113,\n",
       " 127,\n",
       " 131,\n",
       " 137,\n",
       " 139,\n",
       " 149,\n",
       " 151,\n",
       " 157,\n",
       " 163,\n",
       " 167,\n",
       " 173,\n",
       " 179,\n",
       " 181,\n",
       " 191,\n",
       " 193,\n",
       " 197,\n",
       " 199]"
      ]
     },
     "execution_count": 6,
     "metadata": {},
     "output_type": "execute_result"
    }
   ],
   "source": [
    "prime()"
   ]
  },
  {
   "cell_type": "code",
   "execution_count": 7,
   "id": "fb94a058-7659-4c25-b821-24e0959d0ce2",
   "metadata": {},
   "outputs": [],
   "source": [
    "#Create an iterator class in Python that generates the Fibonacci sequence up to a specified number of terms.\n",
    "def Fibonacci(n):\n",
    "    a,b=0,1\n",
    "    for i in range(n):\n",
    "        yield a\n",
    "        a,b=b,a+b\n",
    "        \n"
   ]
  },
  {
   "cell_type": "code",
   "execution_count": 9,
   "id": "51c5ef60-e546-45d9-9e25-cf82be6fab4e",
   "metadata": {},
   "outputs": [
    {
     "data": {
      "text/plain": [
       "0"
      ]
     },
     "execution_count": 9,
     "metadata": {},
     "output_type": "execute_result"
    }
   ],
   "source": [
    "f=Fibonacci(10)\n",
    "next(f)"
   ]
  },
  {
   "cell_type": "code",
   "execution_count": 10,
   "id": "8c3c5675-be13-46e2-a362-230bd1b65ab2",
   "metadata": {},
   "outputs": [
    {
     "data": {
      "text/plain": [
       "1"
      ]
     },
     "execution_count": 10,
     "metadata": {},
     "output_type": "execute_result"
    }
   ],
   "source": [
    "next(f)"
   ]
  },
  {
   "cell_type": "code",
   "execution_count": 11,
   "id": "de6a7bae-67a0-4205-a367-34ddaddbdf50",
   "metadata": {},
   "outputs": [
    {
     "data": {
      "text/plain": [
       "1"
      ]
     },
     "execution_count": 11,
     "metadata": {},
     "output_type": "execute_result"
    }
   ],
   "source": [
    "next(f)"
   ]
  },
  {
   "cell_type": "code",
   "execution_count": 12,
   "id": "d587fca5-5c3e-4c5d-b5ba-afdef3a0e3c1",
   "metadata": {},
   "outputs": [
    {
     "data": {
      "text/plain": [
       "2"
      ]
     },
     "execution_count": 12,
     "metadata": {},
     "output_type": "execute_result"
    }
   ],
   "source": [
    "next(f)"
   ]
  },
  {
   "cell_type": "code",
   "execution_count": 13,
   "id": "f877302b-889d-41f2-b81a-7aaa31672482",
   "metadata": {},
   "outputs": [
    {
     "data": {
      "text/plain": [
       "3"
      ]
     },
     "execution_count": 13,
     "metadata": {},
     "output_type": "execute_result"
    }
   ],
   "source": [
    "next(f)"
   ]
  },
  {
   "cell_type": "code",
   "execution_count": 14,
   "id": "54d723e4-4fc9-48fc-9f28-eb3cfec0c461",
   "metadata": {},
   "outputs": [
    {
     "data": {
      "text/plain": [
       "5"
      ]
     },
     "execution_count": 14,
     "metadata": {},
     "output_type": "execute_result"
    }
   ],
   "source": [
    "next(f)"
   ]
  },
  {
   "cell_type": "code",
   "execution_count": 15,
   "id": "7f52a75b-6e54-4dd7-807d-abca485053ef",
   "metadata": {},
   "outputs": [],
   "source": [
    "#Write a generator function in Python that yields the powers of 2 up to a given exponent.\n",
    "def exponent(n):\n",
    "    for i in range(n):\n",
    "        yield (2**i)\n",
    "        "
   ]
  },
  {
   "cell_type": "code",
   "execution_count": 17,
   "id": "caf5cb68-2787-43c5-be90-a1545440a827",
   "metadata": {},
   "outputs": [
    {
     "data": {
      "text/plain": [
       "1"
      ]
     },
     "execution_count": 17,
     "metadata": {},
     "output_type": "execute_result"
    }
   ],
   "source": [
    "a=exponent(4)\n",
    "next(a)"
   ]
  },
  {
   "cell_type": "code",
   "execution_count": 18,
   "id": "1a5f19fe-5f2d-4f6b-b089-b658619025c7",
   "metadata": {},
   "outputs": [
    {
     "data": {
      "text/plain": [
       "2"
      ]
     },
     "execution_count": 18,
     "metadata": {},
     "output_type": "execute_result"
    }
   ],
   "source": [
    "next(a)"
   ]
  },
  {
   "cell_type": "code",
   "execution_count": 19,
   "id": "d5676c46-1014-4a0e-838f-a13938762489",
   "metadata": {},
   "outputs": [
    {
     "data": {
      "text/plain": [
       "4"
      ]
     },
     "execution_count": 19,
     "metadata": {},
     "output_type": "execute_result"
    }
   ],
   "source": [
    "next(a)\n"
   ]
  },
  {
   "cell_type": "code",
   "execution_count": 20,
   "id": "2e7bdd9d-a880-4c6c-b429-806a980d79c5",
   "metadata": {},
   "outputs": [
    {
     "data": {
      "text/plain": [
       "8"
      ]
     },
     "execution_count": 20,
     "metadata": {},
     "output_type": "execute_result"
    }
   ],
   "source": [
    "next(a)"
   ]
  },
  {
   "cell_type": "code",
   "execution_count": 24,
   "id": "2b73ed2d-0ba5-429c-90c4-a03858c31c1c",
   "metadata": {},
   "outputs": [],
   "source": [
    "#. Implement a generator function that reads a file line by line and yields each line as a string.\n",
    "\n",
    "    "
   ]
  },
  {
   "cell_type": "code",
   "execution_count": 37,
   "id": "54d59162-fbc4-461f-b99b-2222b4412a7f",
   "metadata": {},
   "outputs": [
    {
     "data": {
      "text/plain": [
       "[(81, 1), (1, 3), (2, 9), (11, 12), (1, 32)]"
      ]
     },
     "execution_count": 37,
     "metadata": {},
     "output_type": "execute_result"
    }
   ],
   "source": [
    "#. Use a lambda function in Python to sort a list of tuples based on the second element of each tuple.\n",
    "l=[(2,9),(11,12),(1,32),(81,1),(1,3)]\n",
    "sorted(l,key=lambda x: x[1])"
   ]
  },
  {
   "cell_type": "code",
   "execution_count": 14,
   "id": "02777ba6-8292-4462-b5dc-8e3056599794",
   "metadata": {},
   "outputs": [
    {
     "data": {
      "text/plain": [
       "[35.6, 32.0, 89.6, 204.8]"
      ]
     },
     "execution_count": 14,
     "metadata": {},
     "output_type": "execute_result"
    }
   ],
   "source": [
    "#. Write a Python program that uses `map()` to convert a list of temperatures from Celsius to Fahrenheit.\n",
    "def Convert(i):\n",
    "    i_f=i*(9/5)+32\n",
    "    return i_f\n",
    "a=map(Convert,[2,0,32,96])\n",
    "list(a)\n"
   ]
  },
  {
   "cell_type": "code",
   "execution_count": null,
   "id": "7e313304-1358-417f-9382-74220761e1f8",
   "metadata": {},
   "outputs": [],
   "source": [
    "#Create a Python program that uses `filter()` to remove all the vowels from a given string.\n",
    "def r_vowel(x):\n",
    "    if x=='A' or x=='E' or x=='I' or x=='O' or x=='U' or x=='a' or x=='e' or x=='i' or x=='o' or x=='u':\n",
    "        "
   ]
  },
  {
   "cell_type": "code",
   "execution_count": 19,
   "id": "43ce379e-0fe9-436a-b2a0-426a7b7eeb1c",
   "metadata": {},
   "outputs": [],
   "source": [
    "def remove_vowels(s):\n",
    "    vowels = \"aeiouAEIOU\"\n",
    "    result = \"\"\n",
    "    for char in s:\n",
    "        if char not in vowels:\n",
    "            result += char\n",
    "    return result\n",
    "    "
   ]
  },
  {
   "cell_type": "code",
   "execution_count": 28,
   "id": "d5b6d6b5-fc90-4bfc-9bf9-0ce21350b13b",
   "metadata": {},
   "outputs": [
    {
     "data": {
      "text/plain": [
       "('H', 'l', 'l', ' ', 'W', 'r', 'l', 'd')"
      ]
     },
     "execution_count": 28,
     "metadata": {},
     "output_type": "execute_result"
    }
   ],
   "source": [
    "tuple(filter(remove_vowels,'Hello World'))"
   ]
  },
  {
   "cell_type": "code",
   "execution_count": null,
   "id": "616f2fc2-cd0d-40ac-9389-50a721b48714",
   "metadata": {},
   "outputs": [],
   "source": [
    "# Imagine an accounting routine used in a book shop. It works on a list with sublists, which look like this\n",
    "\n",
    "orders = [[34587, 4, 40.95], [98762, 5, 56.80], [77226, 3, 32.95], [88112, 3, 24.50]]\n",
    "total = list(map(lambda x: (x[0], x[1] * x[2] + 10) if x[1] * x[2] < 100 else (x[0], x[1] * x[2]), orders))\n"
   ]
  }
 ],
 "metadata": {
  "kernelspec": {
   "display_name": "Python 3 (ipykernel)",
   "language": "python",
   "name": "python3"
  },
  "language_info": {
   "codemirror_mode": {
    "name": "ipython",
    "version": 3
   },
   "file_extension": ".py",
   "mimetype": "text/x-python",
   "name": "python",
   "nbconvert_exporter": "python",
   "pygments_lexer": "ipython3",
   "version": "3.11.7"
  }
 },
 "nbformat": 4,
 "nbformat_minor": 5
}
