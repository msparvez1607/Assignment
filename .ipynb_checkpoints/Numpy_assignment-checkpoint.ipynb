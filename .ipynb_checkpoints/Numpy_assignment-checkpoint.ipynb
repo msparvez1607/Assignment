{
 "cells": [
  {
   "cell_type": "code",
   "execution_count": null,
   "id": "522a2f5e-ebf8-4d21-b307-2381c173c60b",
   "metadata": {},
   "outputs": [],
   "source": []
  },
  {
   "cell_type": "code",
   "execution_count": null,
   "id": "a28271c7-809e-43e1-b85f-0345aa84c3ea",
   "metadata": {},
   "outputs": [],
   "source": []
  },
  {
   "cell_type": "code",
   "execution_count": null,
   "id": "488396eb-13bb-4508-a894-b678f6aa4541",
   "metadata": {},
   "outputs": [],
   "source": []
  },
  {
   "cell_type": "code",
   "execution_count": null,
   "id": "405661f2-eb78-4714-b435-874ed365bd3b",
   "metadata": {},
   "outputs": [],
   "source": []
  },
  {
   "cell_type": "code",
   "execution_count": null,
   "id": "186ed051-15d3-4907-a08d-097c8a6338dc",
   "metadata": {},
   "outputs": [],
   "source": []
  },
  {
   "cell_type": "code",
   "execution_count": null,
   "id": "0fc0ce45-a543-40a4-bf5b-78623244bbe3",
   "metadata": {},
   "outputs": [],
   "source": []
  },
  {
   "cell_type": "code",
   "execution_count": null,
   "id": "a74b985f-e5d4-4354-a627-dea7ed433368",
   "metadata": {},
   "outputs": [],
   "source": []
  },
  {
   "cell_type": "code",
   "execution_count": null,
   "id": "a8fb4b4f-c396-4df7-b22d-23098be7e191",
   "metadata": {},
   "outputs": [],
   "source": []
  },
  {
   "cell_type": "code",
   "execution_count": null,
   "id": "39b24e34-df1c-4ce9-a67c-7cbe2901b114",
   "metadata": {},
   "outputs": [],
   "source": []
  },
  {
   "cell_type": "code",
   "execution_count": null,
   "id": "779c6838-d5fc-407a-bb03-34977b93c560",
   "metadata": {},
   "outputs": [],
   "source": []
  },
  {
   "cell_type": "code",
   "execution_count": null,
   "id": "01248f74-a98a-4a02-b7eb-5893d60aaafc",
   "metadata": {},
   "outputs": [],
   "source": []
  },
  {
   "cell_type": "code",
   "execution_count": null,
   "id": "92269539-ad88-4bf3-b908-093d33a9b02f",
   "metadata": {},
   "outputs": [],
   "source": []
  },
  {
   "cell_type": "code",
   "execution_count": null,
   "id": "0491ff72-e7f6-46fd-b4f6-acc482de3625",
   "metadata": {},
   "outputs": [],
   "source": []
  },
  {
   "cell_type": "code",
   "execution_count": null,
   "id": "63e01c2a-071b-48a7-b39b-5ca91db10047",
   "metadata": {},
   "outputs": [],
   "source": []
  },
  {
   "cell_type": "code",
   "execution_count": null,
   "id": "859481a9-e509-4105-8e7b-6c60830eb69e",
   "metadata": {},
   "outputs": [],
   "source": []
  },
  {
   "cell_type": "code",
   "execution_count": null,
   "id": "9d9ace3e-8198-478b-b368-c2f3ea3e881d",
   "metadata": {},
   "outputs": [],
   "source": []
  },
  {
   "cell_type": "code",
   "execution_count": null,
   "id": "2ab8d658-e37b-47b0-babd-b2f2bb683e7f",
   "metadata": {},
   "outputs": [],
   "source": []
  },
  {
   "cell_type": "code",
   "execution_count": null,
   "id": "f6e4c78f-30d6-445f-a506-739c338b254f",
   "metadata": {},
   "outputs": [],
   "source": []
  },
  {
   "cell_type": "code",
   "execution_count": null,
   "id": "4046e639-428e-49a2-9a49-4c3807b0e839",
   "metadata": {},
   "outputs": [],
   "source": []
  },
  {
   "cell_type": "code",
   "execution_count": null,
   "id": "c6c1dbd9-825a-4ed9-9d40-01387798a924",
   "metadata": {},
   "outputs": [],
   "source": []
  },
  {
   "cell_type": "code",
   "execution_count": null,
   "id": "9cfbb6cd-4937-42bd-b056-5a5c55f9fff2",
   "metadata": {},
   "outputs": [],
   "source": []
  },
  {
   "cell_type": "code",
   "execution_count": null,
   "id": "18c995f5-6c9c-4dc5-ad5f-faf8c64b68ce",
   "metadata": {},
   "outputs": [],
   "source": []
  },
  {
   "cell_type": "code",
   "execution_count": null,
   "id": "274d5994-9cd8-4b48-bc8d-33a0e1c97fac",
   "metadata": {},
   "outputs": [],
   "source": []
  },
  {
   "cell_type": "code",
   "execution_count": null,
   "id": "1f172dcf-62e8-4696-925f-b5b8b20f4f2d",
   "metadata": {},
   "outputs": [],
   "source": []
  },
  {
   "cell_type": "code",
   "execution_count": null,
   "id": "bbe8e6eb-c6a6-43c1-bcf6-e8ab9ea709fb",
   "metadata": {},
   "outputs": [],
   "source": []
  },
  {
   "cell_type": "code",
   "execution_count": null,
   "id": "b79d1498-ee0e-4be0-8ba6-84e3cd2d0ba3",
   "metadata": {},
   "outputs": [],
   "source": []
  },
  {
   "cell_type": "code",
   "execution_count": null,
   "id": "4ca30c17-d40b-4ffd-b05a-3fb49f3a7cb3",
   "metadata": {},
   "outputs": [],
   "source": []
  },
  {
   "cell_type": "code",
   "execution_count": null,
   "id": "fa6a5fc2-af23-4781-a102-f5da37626fc8",
   "metadata": {},
   "outputs": [],
   "source": []
  },
  {
   "cell_type": "code",
   "execution_count": null,
   "id": "598be186-7a86-4691-a0ca-d9e07f0bb82f",
   "metadata": {},
   "outputs": [],
   "source": []
  },
  {
   "cell_type": "code",
   "execution_count": null,
   "id": "884f241e-578b-42a9-b00f-5b6d841dac45",
   "metadata": {},
   "outputs": [],
   "source": []
  },
  {
   "cell_type": "code",
   "execution_count": null,
   "id": "61289b6a-00fd-4a6e-9722-ea5b23664860",
   "metadata": {},
   "outputs": [],
   "source": []
  },
  {
   "cell_type": "code",
   "execution_count": null,
   "id": "62c78279-ad58-44a3-a949-3e246b2d7117",
   "metadata": {},
   "outputs": [],
   "source": []
  },
  {
   "cell_type": "code",
   "execution_count": null,
   "id": "47ab9b90-f980-4a7d-b70f-468c7a229768",
   "metadata": {},
   "outputs": [],
   "source": []
  },
  {
   "cell_type": "code",
   "execution_count": null,
   "id": "df864c23-0f6c-4ef5-9b5a-b472cdbafcb0",
   "metadata": {},
   "outputs": [],
   "source": []
  },
  {
   "cell_type": "code",
   "execution_count": null,
   "id": "24fed0d2-f730-41f1-9432-d2a3939b3e9c",
   "metadata": {},
   "outputs": [],
   "source": []
  },
  {
   "cell_type": "code",
   "execution_count": null,
   "id": "868237c6-d0aa-4754-9a8c-5b7b042c5fd4",
   "metadata": {},
   "outputs": [],
   "source": []
  },
  {
   "cell_type": "code",
   "execution_count": null,
   "id": "88cd2c01-7dbe-450e-a8f2-c9c5e228332f",
   "metadata": {},
   "outputs": [],
   "source": []
  },
  {
   "cell_type": "code",
   "execution_count": null,
   "id": "fd8ac592-b34f-4b1d-8091-97c45b7f5316",
   "metadata": {},
   "outputs": [],
   "source": []
  },
  {
   "cell_type": "code",
   "execution_count": null,
   "id": "08290e7f-1a8a-4a28-9a7f-df4253f570d4",
   "metadata": {},
   "outputs": [],
   "source": []
  },
  {
   "cell_type": "code",
   "execution_count": null,
   "id": "2357729d-b107-4933-9c21-29c3c7137f9a",
   "metadata": {},
   "outputs": [],
   "source": []
  },
  {
   "cell_type": "code",
   "execution_count": null,
   "id": "d00897e7-a7b8-4128-afa0-d54f0cfd247f",
   "metadata": {},
   "outputs": [],
   "source": []
  },
  {
   "cell_type": "code",
   "execution_count": null,
   "id": "e9025bca-b473-46a2-990f-2bcf305ebeb7",
   "metadata": {},
   "outputs": [],
   "source": []
  },
  {
   "cell_type": "code",
   "execution_count": null,
   "id": "0335eec9-970e-4316-a03f-3b6a33fa92ca",
   "metadata": {},
   "outputs": [],
   "source": []
  },
  {
   "cell_type": "code",
   "execution_count": null,
   "id": "05ad9b3f-a71c-4423-96da-1d6d9e09c5ac",
   "metadata": {},
   "outputs": [],
   "source": []
  },
  {
   "cell_type": "code",
   "execution_count": null,
   "id": "c4fbdcc5-207a-49bd-85ca-7bb939c15da7",
   "metadata": {},
   "outputs": [],
   "source": []
  },
  {
   "cell_type": "code",
   "execution_count": null,
   "id": "5b32ad5a-61b9-4207-b2cf-f349c4fbe853",
   "metadata": {},
   "outputs": [],
   "source": []
  },
  {
   "cell_type": "code",
   "execution_count": null,
   "id": "a1493919-d944-45e5-a4ae-51aadb9689d9",
   "metadata": {},
   "outputs": [],
   "source": []
  },
  {
   "cell_type": "code",
   "execution_count": null,
   "id": "edb70f83-0f5a-420b-bf29-55675273d840",
   "metadata": {},
   "outputs": [],
   "source": []
  },
  {
   "cell_type": "code",
   "execution_count": null,
   "id": "9f6b871c-302f-49a4-a8a7-d6101442d8af",
   "metadata": {},
   "outputs": [],
   "source": []
  },
  {
   "cell_type": "code",
   "execution_count": null,
   "id": "554a608e-c720-4225-8db6-2a54274fac41",
   "metadata": {},
   "outputs": [],
   "source": []
  },
  {
   "cell_type": "code",
   "execution_count": null,
   "id": "a122dbcb-3d1b-4e8c-ab91-0bcea7c44566",
   "metadata": {},
   "outputs": [],
   "source": []
  },
  {
   "cell_type": "code",
   "execution_count": null,
   "id": "6bc5aa70-90bd-4f11-a233-221471be5a47",
   "metadata": {},
   "outputs": [],
   "source": []
  },
  {
   "cell_type": "code",
   "execution_count": null,
   "id": "6df89e06-ae22-4f31-a30b-86b3a55392da",
   "metadata": {},
   "outputs": [],
   "source": []
  },
  {
   "cell_type": "code",
   "execution_count": null,
   "id": "7aa7ff0f-a734-42ac-b3e0-c21d75a97844",
   "metadata": {},
   "outputs": [],
   "source": []
  },
  {
   "cell_type": "code",
   "execution_count": null,
   "id": "a877f1c0-2b84-4dba-9f14-685dda9ab445",
   "metadata": {},
   "outputs": [],
   "source": []
  },
  {
   "cell_type": "code",
   "execution_count": null,
   "id": "d4b7fce9-aa07-440a-bb18-43a02f472ed4",
   "metadata": {},
   "outputs": [],
   "source": []
  },
  {
   "cell_type": "code",
   "execution_count": null,
   "id": "10f0bd67-a3bf-4437-a13d-434eeebfc823",
   "metadata": {},
   "outputs": [],
   "source": []
  },
  {
   "cell_type": "code",
   "execution_count": null,
   "id": "92a58ecc-11c1-4544-8754-1cf76bc9ad40",
   "metadata": {},
   "outputs": [],
   "source": []
  },
  {
   "cell_type": "code",
   "execution_count": null,
   "id": "161aaf9e-0802-426f-911a-05746f29244a",
   "metadata": {},
   "outputs": [],
   "source": []
  },
  {
   "cell_type": "code",
   "execution_count": null,
   "id": "7a27f5c0-d662-4781-8c49-96edc1f2a1b0",
   "metadata": {},
   "outputs": [],
   "source": []
  },
  {
   "cell_type": "code",
   "execution_count": null,
   "id": "667894ba-663e-433c-9178-8bd76e4a503f",
   "metadata": {},
   "outputs": [],
   "source": []
  },
  {
   "cell_type": "code",
   "execution_count": null,
   "id": "e21e08d3-874e-4727-aa4f-e802ba879d38",
   "metadata": {},
   "outputs": [],
   "source": []
  },
  {
   "cell_type": "code",
   "execution_count": null,
   "id": "38b7c294-5643-4cc2-9e6e-29da2439f2bd",
   "metadata": {},
   "outputs": [],
   "source": []
  },
  {
   "cell_type": "code",
   "execution_count": 2,
   "id": "a30afdb8-7b79-4deb-aa07-3413519d06aa",
   "metadata": {},
   "outputs": [],
   "source": [
    "import numpy as np\n"
   ]
  },
  {
   "cell_type": "code",
   "execution_count": 13,
   "id": "23c688ef-a4f7-4c1b-84e4-ef66290ce729",
   "metadata": {},
   "outputs": [
    {
     "name": "stdout",
     "output_type": "stream",
     "text": [
      "Original Array [[53 53 65]\n",
      " [55 41 55]\n",
      " [99 29 46]]\n",
      "Transpose Array [[53 55 99]\n",
      " [53 41 29]\n",
      " [65 55 46]]\n"
     ]
    }
   ],
   "source": [
    "#. Create a 3x3 NumPy array with random integers between 1 and 100. Then, interchange its rows and columns.\n",
    "original_arr=np.random.randint(1,100,(3,3))\n",
    "transpose_arr=original_arr.T\n",
    "print(f'Original Array {original_arr}')\n",
    "print(f'Transpose Array {transpose_arr}')"
   ]
  },
  {
   "cell_type": "code",
   "execution_count": 20,
   "id": "aa1a3860-818a-4941-b822-b77465240914",
   "metadata": {},
   "outputs": [
    {
     "name": "stdout",
     "output_type": "stream",
     "text": [
      "[[ 0  2  4  6  8]\n",
      " [10 12 14 16 18]]\n",
      "\n",
      "[[ 0  2]\n",
      " [ 4  6]\n",
      " [ 8 10]\n",
      " [12 14]\n",
      " [16 18]]\n"
     ]
    }
   ],
   "source": [
    "#2. Generate a 1D NumPy array with 10 elements. Reshape it into a 2x5 array, then into a 5x2 array.\n",
    "arr=np.arange(0,20,2)\n",
    "reshape_arr=arr.reshape(2,5)\n",
    "print(reshape_arr)\n",
    "reshape_arr2=reshape_arr.reshape(5,2)\n",
    "print()\n",
    "print(reshape_arr2)"
   ]
  },
  {
   "cell_type": "code",
   "execution_count": 36,
   "id": "19ea5352-f70a-40de-9125-708ba26af04c",
   "metadata": {},
   "outputs": [
    {
     "data": {
      "text/plain": [
       "array([[0.99656283, 0.80587851, 0.21805462, 0.71503429],\n",
       "       [0.46183839, 0.04012013, 0.57739752, 0.61522088],\n",
       "       [0.80414069, 0.9212387 , 0.89077281, 0.53760087],\n",
       "       [0.65938246, 0.29264554, 0.68152149, 0.59041288]])"
      ]
     },
     "execution_count": 36,
     "metadata": {},
     "output_type": "execute_result"
    }
   ],
   "source": [
    "#Create a 4x4 NumPy array with random float values. Add a border of zeros around it, resulting in a 6x6 array.\n",
    "arr=np.random.rand(16).reshape(4,4)\n"
   ]
  },
  {
   "cell_type": "code",
   "execution_count": 88,
   "id": "a88b005f-300b-498b-8b13-7bade1821b9c",
   "metadata": {},
   "outputs": [],
   "source": [
    "ver_b=np.zeros(4)\n",
    "hor_b=np.zeros(6).reshape(6,1)\n",
    "\n"
   ]
  },
  {
   "cell_type": "code",
   "execution_count": 91,
   "id": "56e7430e-e45e-4c90-b36b-6ef7493c94e3",
   "metadata": {},
   "outputs": [
    {
     "data": {
      "text/plain": [
       "array([[0.        , 0.        , 0.        , 0.        , 0.        ,\n",
       "        0.        ],\n",
       "       [0.        , 0.99656283, 0.80587851, 0.21805462, 0.71503429,\n",
       "        0.        ],\n",
       "       [0.        , 0.46183839, 0.04012013, 0.57739752, 0.61522088,\n",
       "        0.        ],\n",
       "       [0.        , 0.80414069, 0.9212387 , 0.89077281, 0.53760087,\n",
       "        0.        ],\n",
       "       [0.        , 0.65938246, 0.29264554, 0.68152149, 0.59041288,\n",
       "        0.        ],\n",
       "       [0.        , 0.        , 0.        , 0.        , 0.        ,\n",
       "        0.        ]])"
      ]
     },
     "execution_count": 91,
     "metadata": {},
     "output_type": "execute_result"
    }
   ],
   "source": [
    "arr1=np.vstack((ver_b,arr,ver_b))\n",
    "arr1\n",
    "arr2=np.hstack((hor_b,arr1,hor_b))\n",
    "arr2\n"
   ]
  },
  {
   "cell_type": "code",
   "execution_count": 93,
   "id": "d97d5e0c-3207-4b7b-9a3f-38f783d5e259",
   "metadata": {},
   "outputs": [
    {
     "name": "stdout",
     "output_type": "stream",
     "text": [
      "[10 15 20 25 30 35 40 45 50 55]\n"
     ]
    }
   ],
   "source": [
    "# Using NumPy, create an array of integers from 10 to 60 with a step of 5.\n",
    "arr=np.arange(10,60,5)\n",
    "print(arr)"
   ]
  },
  {
   "cell_type": "code",
   "execution_count": 101,
   "id": "ce9189ca-2af2-474f-a552-f65a5bffce31",
   "metadata": {},
   "outputs": [
    {
     "name": "stdout",
     "output_type": "stream",
     "text": [
      "['PYTHON' 'NUMPY' 'PANDAS']\n",
      "['python' 'numpy' 'pandas']\n",
      "['Python' 'Numpy' 'Pandas']\n"
     ]
    }
   ],
   "source": [
    "# Create a NumPy array of strings ['python', 'numpy', 'pandas']. Apply different case transformations (uppercase, lowercase, title case, etc.) to each element.\n",
    "word=['python', 'numpy', 'pandas']\n",
    "word_arr=np.array(word)\n",
    "Upper_arr=np.char.upper(word_arr)\n",
    "lower_arr=np.char.lower(word_arr)\n",
    "title_arr=np.char.title(word_arr)\n",
    "print(Upper_arr)\n",
    "print(lower_arr)\n",
    "print(title_arr)\n"
   ]
  },
  {
   "cell_type": "code",
   "execution_count": 109,
   "id": "a03f7586-446a-405b-a1df-c75a2c7f12b4",
   "metadata": {},
   "outputs": [
    {
     "data": {
      "text/plain": [
       "array('India is my country', dtype='<U19')"
      ]
     },
     "execution_count": 109,
     "metadata": {},
     "output_type": "execute_result"
    }
   ],
   "source": [
    "# Generate a NumPy array of words. Insert a space between each character of every word in the array.\n",
    "sen='India is my country'\n",
    "a=np.array(sen)\n",
    "a\n"
   ]
  },
  {
   "cell_type": "code",
   "execution_count": 110,
   "id": "c487c75b-8bf1-419e-8fc3-c9921bd7cc4c",
   "metadata": {},
   "outputs": [],
   "source": [
    "#Create two 2D NumPy arrays and perform element-wise addition, subtraction, multiplication, and division.\n"
   ]
  },
  {
   "cell_type": "code",
   "execution_count": 119,
   "id": "d9e2eadb-2959-4dc5-8ba0-5aa703f15941",
   "metadata": {},
   "outputs": [
    {
     "name": "stdout",
     "output_type": "stream",
     "text": [
      "1.0\n",
      "1.0\n",
      "1.0\n",
      "1.0\n",
      "1.0\n"
     ]
    }
   ],
   "source": [
    "# Use NumPy to create a 5x5 identity matrix, then extract its diagonal elements\n",
    "a=np.eye(5)\n",
    "for i in range(a.shape[0]):\n",
    "    print(a[i][i])"
   ]
  },
  {
   "cell_type": "code",
   "execution_count": 126,
   "id": "9a148bd1-818a-4e0d-8fcf-e90709cdb0d3",
   "metadata": {},
   "outputs": [
    {
     "ename": "SyntaxError",
     "evalue": "expected ':' (978887015.py, line 4)",
     "output_type": "error",
     "traceback": [
      "\u001b[0;36m  Cell \u001b[0;32mIn[126], line 4\u001b[0;36m\u001b[0m\n\u001b[0;31m    for j in range()\u001b[0m\n\u001b[0m                    ^\u001b[0m\n\u001b[0;31mSyntaxError\u001b[0m\u001b[0;31m:\u001b[0m expected ':'\n"
     ]
    }
   ],
   "source": [
    "# Generate a NumPy array of 100 random integers between 0 and 1000. Find and display all prime numbers in this array\n",
    "np.random.randint(0,1000,(1,100))\n",
    "for i in range(100):\n",
    "     "
   ]
  },
  {
   "cell_type": "code",
   "execution_count": null,
   "id": "54f26177-f2cc-4a58-a946-6270c8843034",
   "metadata": {},
   "outputs": [],
   "source": []
  }
 ],
 "metadata": {
  "kernelspec": {
   "display_name": "Python 3 (ipykernel)",
   "language": "python",
   "name": "python3"
  },
  "language_info": {
   "codemirror_mode": {
    "name": "ipython",
    "version": 3
   },
   "file_extension": ".py",
   "mimetype": "text/x-python",
   "name": "python",
   "nbconvert_exporter": "python",
   "pygments_lexer": "ipython3",
   "version": "3.10.8"
  }
 },
 "nbformat": 4,
 "nbformat_minor": 5
}
