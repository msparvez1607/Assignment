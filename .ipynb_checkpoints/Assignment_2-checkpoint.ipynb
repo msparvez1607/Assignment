{
 "cells": [
  {
   "cell_type": "code",
   "execution_count": 2,
   "id": "edf9ec4f-7e5a-4031-815b-4105e0bedf8b",
   "metadata": {},
   "outputs": [],
   "source": [
    "#Discuss string slicing and provide examples\n",
    "#String slicing in Python is a technique to extract a portion of a string by specifying a range of indices. Slicing allows you to access specific parts of a string efficiently without altering the original string.\n",
    "#Basic Syntax\n",
    "#string[start:stop:step]\n",
    "#start-The starting index for a character that starts from 0 for 1st character\n",
    "#stop- The ending index till where you want the substring or complete string \n",
    "#step-It refers to the substring  you want from the given string consist of all elements or whether an alternate or skipping 2 characters and so on from the sequence\n",
    "#Basic slicing\n",
    "text = \"Hello, World!\"\n",
    "slice1 = text[0:5]  # 'Hello'\n",
    "slice2 = text[7:12] # 'World'\n",
    "\n"
   ]
  },
  {
   "cell_type": "code",
   "execution_count": 1,
   "id": "9bc31333-4ea6-4a33-9913-a3c553636064",
   "metadata": {},
   "outputs": [],
   "source": [
    "#Default starting and ending \n",
    "text = \"Python Programming\"\n",
    "slice1 = text[:6]    # 'Python'\n",
    "slice2 = text[7:]    # 'Programming'\n"
   ]
  },
  {
   "cell_type": "code",
   "execution_count": null,
   "id": "cc28e68c-00af-43e0-a82b-d4fa01b13374",
   "metadata": {},
   "outputs": [],
   "source": [
    "#Slicing through whole length and skipping some characters\n",
    "text = \"abcdef\"\n",
    "slice1 = text[::2]  # 'ace'\n",
    "slice2 = text[1::2] # 'bdf'\n"
   ]
  },
  {
   "cell_type": "code",
   "execution_count": null,
   "id": "e8b30f51-0dd7-4bd2-893f-81b3f1e6c804",
   "metadata": {},
   "outputs": [],
   "source": [
    "#Substring slicing\n",
    "text = \"Hello, World!\"\n",
    "slice1 = text[-6:-1]  # 'World'\n",
    "# Reverse string of a given string using slicing\n",
    "slice2 = text[::-1]   # '!dlroW ,olleH'\n"
   ]
  },
  {
   "cell_type": "code",
   "execution_count": null,
   "id": "05ca4342-e234-4f06-8c29-b06c1eca6e90",
   "metadata": {},
   "outputs": [],
   "source": [
    "#Advance slicing\n",
    "text = \"abcdefghij\"\n",
    "slice1 = text[1:8:2]   # 'bdfh'\n",
    "slice2 = text[-1:-6:-2] # 'jhf'\n"
   ]
  },
  {
   "cell_type": "code",
   "execution_count": 3,
   "id": "f7a9d98d-d82b-44b6-903f-49897cda2ce7",
   "metadata": {},
   "outputs": [
    {
     "name": "stdout",
     "output_type": "stream",
     "text": [
      "10\n"
     ]
    }
   ],
   "source": [
    "#Explain the key features of lists in Python\n",
    "#Ordered Collection\n",
    "my_list = [10, 20, 30, 40]\n",
    "print(my_list[0])  # Output: 10\n"
   ]
  },
  {
   "cell_type": "code",
   "execution_count": 4,
   "id": "ee27718b-6f5e-45ca-b326-5b3aa9a39d01",
   "metadata": {},
   "outputs": [
    {
     "name": "stdout",
     "output_type": "stream",
     "text": [
      "[10, 25, 30]\n"
     ]
    }
   ],
   "source": [
    "#Mutable\n",
    "my_list = [10, 20, 30]\n",
    "my_list[1] = 25  # Modify element at index 1\n",
    "print(my_list)   # Output: [10, 25, 30]\n"
   ]
  },
  {
   "cell_type": "code",
   "execution_count": 5,
   "id": "a782fce9-ec36-48fc-8d2a-14e425eeff7e",
   "metadata": {},
   "outputs": [
    {
     "name": "stdout",
     "output_type": "stream",
     "text": [
      "[10, 'Hello', 3.14, [1, 2, 3]]\n"
     ]
    }
   ],
   "source": [
    "#Heterogeneous Elements\n",
    "my_list = [10, \"Hello\", 3.14, [1, 2, 3]]\n",
    "print(my_list)  # Output: [10, \"Hello\", 3.14, [1, 2, 3]]\n"
   ]
  },
  {
   "cell_type": "code",
   "execution_count": 6,
   "id": "6264300a-a3bf-4ab5-9e2c-30504b14771a",
   "metadata": {},
   "outputs": [
    {
     "name": "stdout",
     "output_type": "stream",
     "text": [
      "[10, 30]\n"
     ]
    }
   ],
   "source": [
    "#Dynamic Size\n",
    "my_list = [10, 20]\n",
    "my_list.append(30)  # Adding an element\n",
    "my_list.pop(1)      # Removing an element at index 1\n",
    "print(my_list)      # Output: [10, 30]\n"
   ]
  },
  {
   "cell_type": "code",
   "execution_count": 7,
   "id": "b674d298-f29f-4e0d-9969-e6c148b7ea63",
   "metadata": {},
   "outputs": [
    {
     "name": "stdout",
     "output_type": "stream",
     "text": [
      "20\n",
      "50\n",
      "[20, 30, 40]\n"
     ]
    }
   ],
   "source": [
    "#Indexing and Slicing\n",
    "my_list = [10, 20, 30, 40, 50]\n",
    "print(my_list[1])    # Output: 20 (positive indexing)\n",
    "print(my_list[-1])   # Output: 50 (negative indexing)\n",
    "print(my_list[1:4])  # Output: [20, 30, 40] (slicing)\n"
   ]
  },
  {
   "cell_type": "code",
   "execution_count": 8,
   "id": "49759895-04f0-4c04-a936-c86c403cafab",
   "metadata": {},
   "outputs": [
    {
     "name": "stdout",
     "output_type": "stream",
     "text": [
      "[0, 1, 4, 9, 16]\n"
     ]
    }
   ],
   "source": [
    "#List Comprehensions\n",
    "squares = [x**2 for x in range(5)]\n",
    "print(squares)  # Output: [0, 1, 4, 9, 16]\n"
   ]
  },
  {
   "cell_type": "code",
   "execution_count": 9,
   "id": "1e5bc0d9-93ea-4257-8b5a-3b983ae90f98",
   "metadata": {},
   "outputs": [
    {
     "name": "stdout",
     "output_type": "stream",
     "text": [
      "10\n",
      "20\n",
      "30\n"
     ]
    }
   ],
   "source": [
    "#Iteration\n",
    "my_list = [10, 20, 30]\n",
    "for item in my_list:\n",
    "    print(item)\n"
   ]
  },
  {
   "cell_type": "code",
   "execution_count": null,
   "id": "750a9372-303f-4e00-8781-800dbe0ce1b3",
   "metadata": {},
   "outputs": [],
   "source": [
    "#Memory efficiency\n",
    "#Python lists are dynamic arrays that allow efficient use of memory, adjusting their size as elements are added or removed."
   ]
  },
  {
   "cell_type": "code",
   "execution_count": null,
   "id": "d89caee2-3df2-4fff-8b0b-b726a647ad40",
   "metadata": {},
   "outputs": [],
   "source": [
    "#Describe how to access, modify, and delete elements in a list with examples"
   ]
  },
  {
   "cell_type": "code",
   "execution_count": 10,
   "id": "ef5e580c-9d8b-4298-aafe-6a20226ebcbf",
   "metadata": {},
   "outputs": [
    {
     "name": "stdout",
     "output_type": "stream",
     "text": [
      "10\n",
      "50\n"
     ]
    }
   ],
   "source": [
    "#Accessing elemnents in a list\n",
    "my_list = [10, 20, 30, 40, 50]\n",
    "\n",
    "# Accessing elements by positive index\n",
    "first_element = my_list[0]   # 10\n",
    "third_element = my_list[2]   # 30\n",
    "\n",
    "# Accessing elements by negative index\n",
    "last_element = my_list[-1]   # 50\n",
    "second_last_element = my_list[-2]  # 40\n",
    "\n",
    "print(first_element)         # Output: 10\n",
    "print(last_element)          # Output: 50\n"
   ]
  },
  {
   "cell_type": "code",
   "execution_count": 11,
   "id": "ed9aaa11-34cb-4917-a54a-9c37c2409a6d",
   "metadata": {},
   "outputs": [
    {
     "name": "stdout",
     "output_type": "stream",
     "text": [
      "[15, 20, 30, 40, 55]\n"
     ]
    }
   ],
   "source": [
    "#Modifying elements\n",
    "my_list = [10, 20, 30, 40, 50]\n",
    "\n",
    "# Modifying the first element\n",
    "my_list[0] = 15\n",
    "# Modifying the last element\n",
    "my_list[-1] = 55\n",
    "\n",
    "print(my_list)  # Output: [15, 20, 30, 40, 55]\n"
   ]
  },
  {
   "cell_type": "code",
   "execution_count": null,
   "id": "28386601-1ed7-4bfe-992e-d16b958769d7",
   "metadata": {},
   "outputs": [],
   "source": [
    "#Deleting elements\n",
    "#Using del statement\n",
    "my_list = [10, 20, 30, 40, 50]\n",
    "\n",
    "# Deleting a single element\n",
    "del my_list[1]  # Deletes the element at index 1\n",
    "\n",
    "# Deleting a slice of elements\n",
    "del my_list[1:3]  # Deletes elements from index 1 to 2\n",
    "\n",
    "print(my_list)  # Output: [10, 40, 50]\n"
   ]
  },
  {
   "cell_type": "code",
   "execution_count": null,
   "id": "fdb3cc53-6750-44de-b251-f005567bd3cf",
   "metadata": {},
   "outputs": [],
   "source": [
    "#Using pop method\n",
    "my_list = [10, 20, 30, 40, 50]\n",
    "\n",
    "# Popping the last element\n",
    "last_element = my_list.pop()  # 50\n",
    "\n",
    "# Popping the element at index 1\n",
    "second_element = my_list.pop(1)  # 20\n",
    "\n",
    "print(my_list)       # Output: [10, 30, 40]\n",
    "print(last_element)  # Output: 50\n",
    "print(second_element) # Output: 20\n"
   ]
  },
  {
   "cell_type": "code",
   "execution_count": 12,
   "id": "c6c68d78-601b-42bc-9cea-f7cb3e37c3ba",
   "metadata": {},
   "outputs": [
    {
     "name": "stdout",
     "output_type": "stream",
     "text": [
      "[10, 30, 20, 50]\n"
     ]
    }
   ],
   "source": [
    "#Using remove method\n",
    "my_list = [10, 20, 30, 20, 50]\n",
    "\n",
    "# Removing the first occurrence of 20\n",
    "my_list.remove(20)\n",
    "\n",
    "print(my_list)  # Output: [10, 30, 20, 50]\n"
   ]
  },
  {
   "cell_type": "code",
   "execution_count": null,
   "id": "dec14a6c-567b-4ffd-be24-2ab4b7bd33ce",
   "metadata": {},
   "outputs": [],
   "source": [
    "#Compare and contrast tuples and lists with examples"
   ]
  },
  {
   "cell_type": "code",
   "execution_count": null,
   "id": "0657ac04-2f78-4a26-a634-e83d4decb074",
   "metadata": {},
   "outputs": [],
   "source": [
    "#Mutability- List are mutable whereas tuples are not mutable\n",
    "#Syntax - list-[],tuple-()\n",
    "#Usage: Use lists when you need a dynamic, modifiable collection; use tuples for fixed, constant data.\n",
    "#Performance: Tuples are faster and more memory-efficient than lists.\n",
    "#Methods: Lists have more built-in methods than tuples due to their mutability.\n",
    "#Immutability: Tuples can be used as dictionary keys, lists cannot.\n"
   ]
  },
  {
   "cell_type": "markdown",
   "id": "923aff49-f468-4b46-be2b-339b74b0bcc5",
   "metadata": {},
   "source": [
    "#Describe the key features of sets and provide examples of their use\n",
    "Answer:)Sets are fundamental concepts in mathematics and computer science, and they have several key features:\n",
    "\n",
    "Uniqueness: A set contains unique elements. No duplicates are allowed.\n",
    "\n",
    "Example: In a set of integers {1, 2, 3}, each number appears only once.\n",
    "Unordered: Sets do not maintain any specific order for their elements. The arrangement of elements is not significant.\n",
    "\n",
    "Example: {5, 2, 8} is the same as {8, 5, 2}.\n",
    "Membership: An element either belongs to a set or it does not. Membership is a binary condition.\n",
    "\n",
    "Example: For the set {a, b, c}, the element b is in the set, while d is not.\n",
    "Operations: Sets support various operations, such as:\n",
    "\n",
    "Union: Combining elements from two sets to form a new set.\n",
    "Example: {1, 2} ∪ {2, 3} results in {1, 2, 3}.\n",
    "Intersection: Elements that are common to both sets.\n",
    "Example: {1, 2, 3} ∩ {2, 3, 4} results in {2, 3}.\n",
    "Difference: Elements in one set that are not in another.\n",
    "Example: {1, 2, 3} - {2, 3, 4} results in {1}.\n",
    "Subset: A set where all its elements are contained within another set.\n",
    "Example: {1, 2} is a subset of {1, 2, 3}.\n",
    "Empty Set: A set with no elements, denoted as {} or ∅.\n",
    "\n",
    "Example: {} is the empty set, meaning it contains no elements.\n",
    "Examples of Use:\n",
    "\n",
    "Mathematics: Sets are used to define groups of numbers, such as prime numbers or even numbers. For example, the set of prime numbers less than 10 is {2, 3, 5, 7}.\n",
    "\n",
    "Computer Science: Sets are used in programming to handle collections of unique items. For example, in Python, you can use sets to automatically eliminate duplicates from a list: unique_elements = set([1, 2, 2, 3, 4]) results in {1, 2, 3, 4}.\n",
    "\n",
    "Database Queries: Sets are used to retrieve unique records from a database. For example, a SQL query might use DISTINCT to get unique entries from a column.\n",
    "\n",
    "Logic and Proofs: Sets are used in proofs and logical arguments to establish relationships between different groups of objects or conditions."
   ]
  },
  {
   "cell_type": "markdown",
   "id": "beaa1815-305e-440b-9d1a-a12d8ceae6f1",
   "metadata": {},
   "source": [
    "#Discuss the use cases of tuples and sets in Python programming\n",
    "Use Cases:For Tuple-\n",
    "\n",
    "1)Fixed Data Structures: Tuples are ideal for representing fixed collections of items that should not change throughout the program.\n",
    "Example: Storing coordinates (x, y) or RGB color values (255, 255, 255).\n",
    "\n",
    "2)Return Multiple Values from Functions: Tuples are often used to return multiple values from a function.\n",
    "Example:"
   ]
  },
  {
   "cell_type": "code",
   "execution_count": 1,
   "id": "bf014805-96ba-4124-a2c1-78682fd5d2f6",
   "metadata": {},
   "outputs": [],
   "source": [
    "def get_user_info():\n",
    "    return \"Alice\", 30\n",
    "name, age = get_user_info()"
   ]
  },
  {
   "cell_type": "markdown",
   "id": "18a89f97-204c-4aee-b61d-00c91d9b8b06",
   "metadata": {},
   "source": [
    "3)Dictionary Keys: Since tuples are immutable, they can be used as keys in dictionaries, unlike lists.\n",
    "Example:"
   ]
  },
  {
   "cell_type": "code",
   "execution_count": 12,
   "id": "8aa973f8-4981-423a-aaaa-928ba104bbdc",
   "metadata": {},
   "outputs": [
    {
     "name": "stdout",
     "output_type": "stream",
     "text": [
      "dict_keys([(0, 0), (1, 1)])\n",
      "origin\n",
      "point1\n"
     ]
    }
   ],
   "source": [
    "points = {(0, 0): \"origin\", (1, 1): \"point1\"}\n",
    "print(points.keys())\n",
    "print(points[(0,0)])\n",
    "print(points[(1,1)])"
   ]
  },
  {
   "cell_type": "markdown",
   "id": "70e98172-7d22-4c17-a67d-f9b0ebe2f7da",
   "metadata": {},
   "source": [
    "4)Unpacking: Tuples can be unpacked into individual variables, making code more readable."
   ]
  },
  {
   "cell_type": "code",
   "execution_count": 14,
   "id": "dcde80b1-1c11-405d-9bed-d7d27cbec600",
   "metadata": {},
   "outputs": [
    {
     "name": "stdout",
     "output_type": "stream",
     "text": [
      "1\n",
      "3\n",
      "2\n"
     ]
    }
   ],
   "source": [
    "a,b,c=(1,2,3)\n",
    "print(a)\n",
    "print(c)\n",
    "print(b)"
   ]
  },
  {
   "cell_type": "markdown",
   "id": "f8f019b3-8d86-4373-9a5e-350192facf48",
   "metadata": {},
   "source": [
    "# Sets:Used cases.\n",
    "Use Cases:\n",
    "\n",
    "Removing Duplicates: Sets are often used to remove duplicate elements from a list or other iterable.\n",
    "\n"
   ]
  },
  {
   "cell_type": "code",
   "execution_count": 17,
   "id": "fef6846a-055c-4c77-a12b-0db4d8b5c80a",
   "metadata": {},
   "outputs": [
    {
     "name": "stdout",
     "output_type": "stream",
     "text": [
      "{1, 2, 4, 5, 6, 7}\n"
     ]
    }
   ],
   "source": [
    "#Example:\n",
    "l=[1,1,2,4,4,4,5,6,7]\n",
    "unique_element=set(l)\n",
    "print(unique_element)"
   ]
  },
  {
   "cell_type": "markdown",
   "id": "8f38bf1e-5bfc-42c6-b29f-65341333fce3",
   "metadata": {},
   "source": [
    "2)Membership Testing: Sets are ideal when you need to check if an element exists within a collection.\n",
    "Example:"
   ]
  },
  {
   "cell_type": "code",
   "execution_count": 23,
   "id": "979760cd-7c64-404f-8c97-6c295e401a1d",
   "metadata": {},
   "outputs": [
    {
     "name": "stdout",
     "output_type": "stream",
     "text": [
      "Apple is in the set\n"
     ]
    }
   ],
   "source": [
    "fruit_set=set(['apple','mango','guava','grapes'])\n",
    "if \"apple\" in fruit_set:\n",
    "    print(\"Apple is in the set\")"
   ]
  },
  {
   "cell_type": "markdown",
   "id": "67e5be97-8277-4c6c-b8aa-3933dd45788b",
   "metadata": {},
   "source": [
    "3)Set Operations: Sets are used when you need to perform mathematical set operations like union, intersection, and difference.\n",
    "Example:"
   ]
  },
  {
   "cell_type": "code",
   "execution_count": 25,
   "id": "de5fa3a5-bbd4-46a7-9653-b378888602dd",
   "metadata": {},
   "outputs": [
    {
     "name": "stdout",
     "output_type": "stream",
     "text": [
      "{1, 2, 3, 4, 5}\n",
      "{3}\n",
      "{1, 2}\n"
     ]
    }
   ],
   "source": [
    "a = {1, 2, 3}\n",
    "b = {3, 4, 5}\n",
    "union = a | b        # {1, 2, 3, 4, 5}\n",
    "intersection = a & b # {3}\n",
    "difference = a - b   # {1, 2}\n",
    "print(union)\n",
    "print(intersection)\n",
    "print(difference)"
   ]
  },
  {
   "cell_type": "markdown",
   "id": "e44562e9-8dbd-4aae-8e6a-96f2e9d27ffc",
   "metadata": {},
   "source": [
    "4)Filtering: Sets can be used to filter out unwanted elements by performing set operations.\n",
    "Example: Filtering out banned users from a list of active users"
   ]
  },
  {
   "cell_type": "code",
   "execution_count": 26,
   "id": "d26c1f8c-ff0b-429d-acf2-f10b74299726",
   "metadata": {},
   "outputs": [
    {
     "name": "stdout",
     "output_type": "stream",
     "text": [
      "{'Bob', 'Alice'}\n"
     ]
    }
   ],
   "source": [
    "active_users = {\"Alice\", \"Bob\", \"Charlie\"}\n",
    "banned_users = {\"Charlie\"}\n",
    "allowed_users = active_users - banned_users # {\"Alice\", \"Bob\"}\n",
    "print(allowed_users)"
   ]
  },
  {
   "cell_type": "markdown",
   "id": "58318109-95cc-4eda-aa8b-834d1e293082",
   "metadata": {},
   "source": [
    "5)Working with Large Data Sets: Sets are often used in algorithms and data processing where you need to perform fast lookups, intersections, or unions over large datasets."
   ]
  },
  {
   "cell_type": "code",
   "execution_count": 1,
   "id": "186b3200-61f2-4974-9f38-074138dba9a2",
   "metadata": {},
   "outputs": [],
   "source": [
    "#Describe how to add, modify, and delete items in a dictionary with examples"
   ]
  },
  {
   "cell_type": "code",
   "execution_count": 2,
   "id": "245f8ef9-f9ac-4edf-a43c-2f56d84afee8",
   "metadata": {},
   "outputs": [
    {
     "name": "stdout",
     "output_type": "stream",
     "text": [
      "{'name': 'Alice', 'age': 30, 'city': 'New York'}\n"
     ]
    }
   ],
   "source": [
    "#Adding new element into a dictionary\n",
    "# Initial dictionary\n",
    "person = {'name': 'Alice', 'age': 30}\n",
    "\n",
    "# Adding a new key-value pair\n",
    "person['city'] = 'New York'\n",
    "\n",
    "print(person)\n"
   ]
  },
  {
   "cell_type": "code",
   "execution_count": 3,
   "id": "9ac52dbe-2b85-4b02-8cec-99ef61106a14",
   "metadata": {},
   "outputs": [
    {
     "name": "stdout",
     "output_type": "stream",
     "text": [
      "{'name': 'Alice', 'age': 31, 'city': 'New York'}\n"
     ]
    }
   ],
   "source": [
    "#Modifying item in a dictionary\n",
    "# Initial dictionary\n",
    "person = {'name': 'Alice', 'age': 30, 'city': 'New York'}\n",
    "\n",
    "# Modifying the value associated with the 'age' key\n",
    "person['age'] = 31\n",
    "\n",
    "print(person)\n"
   ]
  },
  {
   "cell_type": "code",
   "execution_count": 6,
   "id": "6d7aa14b-983f-4498-aeea-b1c0cabfd520",
   "metadata": {},
   "outputs": [
    {
     "name": "stdout",
     "output_type": "stream",
     "text": [
      "{'name': 'Alice', 'age': 31}\n",
      "{'name': 'Alice', 'city': 'New York'}\n",
      "Popped age: 31\n",
      "{'name': 'Alice', 'age': 31}\n",
      "Popped item: ('city', 'New York')\n"
     ]
    }
   ],
   "source": [
    "#Deleting items from a dictionary\n",
    "# Initial dictionary\n",
    "person = {'name': 'Alice', 'age': 31, 'city': 'New York'}\n",
    "\n",
    "# Deleting the 'city' key-value pair\n",
    "del person['city']\n",
    "\n",
    "print(person)\n",
    "\n",
    "#Using pop()\n",
    "# Initial dictionary\n",
    "person = {'name': 'Alice', 'age': 31, 'city': 'New York'}\n",
    "\n",
    "# Popping the 'age' key-value pair\n",
    "age = person.pop('age')\n",
    "\n",
    "print(person)\n",
    "print(\"Popped age:\", age)\n",
    "\n",
    "\n",
    "#Using popitem()\n",
    "# Initial dictionary\n",
    "person = {'name': 'Alice', 'age': 31, 'city': 'New York'}\n",
    "\n",
    "# Popping the last key-value pair added\n",
    "last_item = person.popitem()\n",
    "\n",
    "print(person)\n",
    "print(\"Popped item:\", last_item)\n",
    "\n"
   ]
  },
  {
   "cell_type": "code",
   "execution_count": null,
   "id": "613ecc08-245a-4dda-bb5e-a48164376631",
   "metadata": {},
   "outputs": [],
   "source": [
    "#Discuss the importance of dictionary keys being immutable and provide examples\n",
    "#Immutability is crucial for dictionary keys to ensure that the keys remain hashable, maintain data integrity, and provide efficient dictionary operations.\n",
    "#Common immutable types like strings, numbers, and tuples are ideal for dictionary keys\n",
    "#Mutable types like lists and dictionaries themselves are not allowed as dictionary keys because their hash values can change, which would undermine the consistency and reliability of the dictionary"
   ]
  },
  {
   "cell_type": "code",
   "execution_count": 7,
   "id": "675e5c7c-52da-42ed-a6ff-bc1d69230284",
   "metadata": {},
   "outputs": [
    {
     "ename": "TypeError",
     "evalue": "unhashable type: 'list'",
     "output_type": "error",
     "traceback": [
      "\u001b[0;31m---------------------------------------------------------------------------\u001b[0m",
      "\u001b[0;31mTypeError\u001b[0m                                 Traceback (most recent call last)",
      "Cell \u001b[0;32mIn[7], line 2\u001b[0m\n\u001b[1;32m      1\u001b[0m \u001b[38;5;66;03m#Example of Why Mutability Would Cause Problems\u001b[39;00m\n\u001b[0;32m----> 2\u001b[0m my_dict \u001b[38;5;241m=\u001b[39m {[\u001b[38;5;241m1\u001b[39m, \u001b[38;5;241m2\u001b[39m, \u001b[38;5;241m3\u001b[39m]: \u001b[38;5;124m'\u001b[39m\u001b[38;5;124mvalue\u001b[39m\u001b[38;5;124m'\u001b[39m}\n\u001b[1;32m      3\u001b[0m my_dict[[\u001b[38;5;241m1\u001b[39m, \u001b[38;5;241m2\u001b[39m, \u001b[38;5;241m3\u001b[39m]] \u001b[38;5;241m=\u001b[39m \u001b[38;5;124m'\u001b[39m\u001b[38;5;124mnew value\u001b[39m\u001b[38;5;124m'\u001b[39m\n\u001b[1;32m      4\u001b[0m \u001b[38;5;66;03m#Now if we modify the list\u001b[39;00m\n",
      "\u001b[0;31mTypeError\u001b[0m: unhashable type: 'list'"
     ]
    }
   ],
   "source": [
    "#Example of Why Mutability Would Cause Problems\n",
    "my_dict = {[1, 2, 3]: 'value'}\n",
    "my_dict[[1, 2, 3]] = 'new value'\n",
    "#Now if we modify the list\n",
    "key = [1, 2, 3]\n",
    "key.append(4)  # key is now [1, 2, 3, 4]\n",
    "\n",
    "#The hash of the list would change because its contents have changed, and the dictionary would not be able to find the original entry\n",
    "print(my_dict[key])  # This would raise a KeyError because the hash has changed\n"
   ]
  },
  {
   "cell_type": "code",
   "execution_count": null,
   "id": "02e3fb86-4e9a-4d88-8c5e-ff8af0793e23",
   "metadata": {},
   "outputs": [],
   "source": []
  }
 ],
 "metadata": {
  "kernelspec": {
   "display_name": "Python 3 (ipykernel)",
   "language": "python",
   "name": "python3"
  },
  "language_info": {
   "codemirror_mode": {
    "name": "ipython",
    "version": 3
   },
   "file_extension": ".py",
   "mimetype": "text/x-python",
   "name": "python",
   "nbconvert_exporter": "python",
   "pygments_lexer": "ipython3",
   "version": "3.10.8"
  }
 },
 "nbformat": 4,
 "nbformat_minor": 5
}
