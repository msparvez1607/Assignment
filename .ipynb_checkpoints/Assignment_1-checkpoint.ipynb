{
 "cells": [
  {
   "cell_type": "code",
   "execution_count": null,
   "id": "7458be52-8a9a-4b53-b2ea-3d0892168a2d",
   "metadata": {},
   "outputs": [],
   "source": [
    "#Explain the key features of Python that make it a popular choice for programming\n",
    "#Key features of Python that make it a popular chkice for programming are:-\n",
    "#1) Readability and Simplicity: Simple syntax making it easier for beginner and expert to code efficiently.\n",
    "#2) Versatility: Suitable for many applications like web development, data analysis, machine learning, artificial intelligence, scientific computing, automation, and more\n",
    "#3)Extensive Standard Library: Offers Standard libraries to shorten code length as well as reduction in time consumption while coding\n",
    "#4)Large Ecosystem and Community Support:Large active commuunity also contributes to a wealth of resources, tutorials, and support forums.\n",
    "#5)Dynamic Typing: Variables type are determined during runtime \n",
    "#6)Support for Multiple Programming Paradigms: Python supports various programming paradigms, including procedural, object-oriented, and functional programming, allowing developers to choose the best approach for their specific tasks.\n",
    "#7)Integration Capabilities: Python can easily integrate with other languages and technologies. It supports calling C/C++ code and can interact with Java, .NET, and web services, making it suitable for complex applications.\n",
    "#8)Interpreted Language: As an interpreted language, Python executes code line by line, which simplifies debugging and allows for interactive testing and development using tools like REPL (Read-Eval-Print Loop)."
   ]
  },
  {
   "cell_type": "code",
   "execution_count": null,
   "id": "215a157e-eab6-4352-b484-59f0326d8a77",
   "metadata": {},
   "outputs": [],
   "source": [
    "#Describe the role of predefined keywords in Python and provide examples of how they are used in a program\n",
    "#Predefined keywords in Python are reserved words that have special meanings and are part of the language's syntax. These keywords cannot be used as identifiers (e.g., variable names, function names) and are essential for defining the structure and behavior of Python programs."
   ]
  },
  {
   "cell_type": "code",
   "execution_count": null,
   "id": "1852e11f-3d5c-40d2-bd51-cfc4ce407130",
   "metadata": {},
   "outputs": [],
   "source": [
    "#Control Flow: Keywords like if, else, elif, for, while, break, continue, and pass control the flow of execution in a program.\n",
    "# Using if, elif, and else for conditional execution\n",
    "x = 10\n",
    "if x > 5:\n",
    "    print(\"x is greater than 5\")\n",
    "elif x == 5:\n",
    "    print(\"x is equal to 5\")\n",
    "else:\n",
    "    print(\"x is less than 5\")\n",
    "\n",
    "# Using for and while loops\n",
    "for i in range(5):\n",
    "    print(i)\n",
    "\n",
    "while x > 0:\n",
    "    print(x)\n",
    "    x -= 1\n",
    "\n",
    "# Using break and continue\n",
    "for i in range(10):\n",
    "    if i == 5:\n",
    "        break  # Exit the loop\n",
    "    if i % 2 == 0:\n",
    "        continue  # Skip the rest of the loop body for even numbers\n",
    "    print(i)\n"
   ]
  },
  {
   "cell_type": "code",
   "execution_count": null,
   "id": "9ca81b1f-44d2-4e54-b501-eadc7e808ab8",
   "metadata": {},
   "outputs": [],
   "source": [
    "#Defining Functions and Classes: Keywords such as def, class, and return are used to define functions and classes.\n",
    "# Using def to define a function\n",
    "def greet(name):\n",
    "    return f\"Hello, {name}!\"\n",
    "\n",
    "print(greet(\"Alice\"))\n",
    "\n",
    "# Using class to define a class\n",
    "class Dog:\n",
    "    def __init__(self, name):\n",
    "        self.name = name\n",
    "    \n",
    "    def bark(self):\n",
    "        return f\"{self.name} says woof!\"\n",
    "\n",
    "dog = Dog(\"Buddy\")\n",
    "print(dog.bark())\n"
   ]
  },
  {
   "cell_type": "code",
   "execution_count": null,
   "id": "4ca355cb-dad7-45a9-b66e-6463bdaa0354",
   "metadata": {},
   "outputs": [],
   "source": [
    "#Handling Exceptions: Keywords like try, except, finally, raise, and assert manage exceptions and errors in a program.\n",
    "# Using try, except, finally, and raise for exception handling\n",
    "try:\n",
    "    num = int(input(\"Enter a number: \"))\n",
    "    result = 10 / num\n",
    "except ZeroDivisionError:\n",
    "    print(\"You can't divide by zero!\")\n",
    "except ValueError:\n",
    "    print(\"Invalid input! Please enter a number.\")\n",
    "else:\n",
    "    print(\"The result is\", result)\n",
    "finally:\n",
    "    print(\"This block always executes.\")\n"
   ]
  },
  {
   "cell_type": "code",
   "execution_count": null,
   "id": "4b6f9a7a-dc13-4c9f-834c-b6bf22edbc02",
   "metadata": {},
   "outputs": [],
   "source": [
    "#Variable Scope and Namespace: Keywords such as global, nonlocal, import, from, and as help in managing the scope of variables and importing modules.\n",
    "# Using import, from, and as for importing modules\n",
    "import math\n",
    "from datetime import datetime as dt\n",
    "\n",
    "print(math.sqrt(16))\n",
    "print(dt.now())\n",
    "\n",
    "# Using global and nonlocal\n",
    "x = 10\n",
    "\n",
    "def outer_function():\n",
    "    global x\n",
    "    x = 20\n",
    "\n",
    "    def inner_function():\n",
    "        nonlocal x\n",
    "        x = 30\n",
    "    \n",
    "    inner_function()\n",
    "    print(\"Inside outer_function, x =\", x)\n",
    "\n",
    "outer_function()\n",
    "print(\"Outside, x =\", x)\n"
   ]
  },
  {
   "cell_type": "code",
   "execution_count": null,
   "id": "2867c4f5-c956-46f6-b5cd-18be56a05114",
   "metadata": {},
   "outputs": [],
   "source": [
    "#Boolean Operations: Keywords True, False, and, or, and not are used in boolean expressions.\n",
    "# Using True, False, and, or, and not\n",
    "a = True\n",
    "b = False\n",
    "\n",
    "if a and not b:\n",
    "    print(\"Both conditions are true\")\n",
    "\n",
    "if a or b:\n",
    "    print(\"At least one condition is true\")\n"
   ]
  },
  {
   "cell_type": "code",
   "execution_count": null,
   "id": "2420966e-9e9d-4743-8975-a56eb3214717",
   "metadata": {},
   "outputs": [],
   "source": [
    "#Miscellaneous: Other keywords include None (representing the absence of a value), lambda (for creating anonymous functions), with (for context management), and yield (for generating values in a generator).\n",
    "\n",
    "# Using None, lambda, with, and yield\n",
    "def check_value(value):\n",
    "    if value is None:\n",
    "        return \"No value provided\"\n",
    "    return f\"Value is {value}\"\n",
    "\n",
    "print(check_value(None))\n",
    "print(check_value(10))\n",
    "\n",
    "# Using lambda to create an anonymous function\n",
    "add = lambda x, y: x + y\n",
    "print(add(3, 5))\n",
    "\n",
    "# Using with for context management\n",
    "with open(\"example.txt\", \"w\") as file:\n",
    "    file.write(\"Hello, world!\")\n",
    "\n",
    "# Using yield to generate values in a generator\n",
    "def generate_numbers():\n",
    "    for i in range(5):\n",
    "        yield i\n",
    "\n",
    "for number in generate_numbers():\n",
    "    print(number)\n"
   ]
  },
  {
   "cell_type": "code",
   "execution_count": null,
   "id": "2f48e4d7-d52a-44a6-8183-dc1dbc7ccec2",
   "metadata": {},
   "outputs": [],
   "source": [
    "#Compare and contrast mutable and immutable objects in Python with examples"
   ]
  },
  {
   "cell_type": "code",
   "execution_count": null,
   "id": "e6c7e59f-b711-4a08-9ff6-1d0bf67ca3ee",
   "metadata": {},
   "outputs": [],
   "source": [
    "#Mutable objects can have their state or contents changed after they are created. Examples of mutable objects in Python include lists, dictionaries, sets, and byte arrays.\n",
    "#1) List\n",
    "my_list = [1, 2, 3]\n",
    "print(my_list)  # Output: [1, 2, 3]\n",
    "\n",
    "my_list[0] = 10\n",
    "print(my_list)  # Output: [10, 2, 3]\n",
    "\n",
    "my_list.append(4)\n",
    "print(my_list)  # Output: [10, 2, 3, 4]\n"
   ]
  },
  {
   "cell_type": "code",
   "execution_count": null,
   "id": "e9d49287-086f-4664-be18-a25776a507c3",
   "metadata": {},
   "outputs": [],
   "source": [
    "#2) Dictionary\n",
    "my_dict = {'a': 1, 'b': 2}\n",
    "print(my_dict)  # Output: {'a': 1, 'b': 2}\n",
    "\n",
    "my_dict['a'] = 10\n",
    "print(my_dict)  # Output: {'a': 10, 'b': 2}\n",
    "\n",
    "my_dict['c'] = 3\n",
    "print(my_dict)  # Output: {'a': 10, 'b': 2, 'c': 3}\n"
   ]
  },
  {
   "cell_type": "code",
   "execution_count": null,
   "id": "bb1b1981-a2f6-45af-9c80-95d46149c863",
   "metadata": {},
   "outputs": [],
   "source": [
    "#3)Immutable objects cannot have their state or contents changed after they are created. Examples of immutable objects in Python include integers, floats, strings, tuples, and frozensets.\n",
    "#1) Strings:\n",
    "my_string = \"hello\"\n",
    "print(my_string)  # Output: hello\n",
    "\n",
    "# Attempting to change a character results in an error\n",
    "# my_string[0] = 'H'  # This will raise a TypeError\n",
    "\n",
    "# Instead, you create a new string\n",
    "new_string = 'H' + my_string[1:]\n",
    "print(new_string)  # Output: Hello\n"
   ]
  },
  {
   "cell_type": "code",
   "execution_count": null,
   "id": "6030af0f-8c39-4ac9-8ede-b7eb23967d08",
   "metadata": {},
   "outputs": [],
   "source": [
    "#2) Tuple:\n",
    "my_tuple = (1, 2, 3)\n",
    "print(my_tuple)  # Output: (1, 2, 3)\n",
    "\n",
    "# Attempting to change a value results in an error\n",
    "# my_tuple[0] = 10  # This will raise a TypeError\n",
    "\n",
    "# Instead, you create a new tuple\n",
    "new_tuple = (10,) + my_tuple[1:]\n",
    "print(new_tuple)  # Output: (10, 2, 3)\n"
   ]
  },
  {
   "cell_type": "code",
   "execution_count": null,
   "id": "d7dfb70b-a454-48a9-9786-140cd037f505",
   "metadata": {},
   "outputs": [],
   "source": [
    "#Discuss the different types of operators in Python and provide examples of how they are used"
   ]
  },
  {
   "cell_type": "code",
   "execution_count": null,
   "id": "6320676f-d562-4dc4-879c-a7a4c3ae882c",
   "metadata": {},
   "outputs": [],
   "source": [
    "#Python has a wide range of operators that allow you to perform various operations on variables and values. Here are the main types of operators in Python along with examples of how they are used:"
   ]
  },
  {
   "cell_type": "code",
   "execution_count": null,
   "id": "9ff69128-fce2-424b-9bcd-08dab2075717",
   "metadata": {},
   "outputs": [],
   "source": [
    "# Arithematic Operator\n",
    "a = 10\n",
    "b = 3\n",
    "\n",
    "print(a + b)  # Output: 13\n",
    "print(a - b)  # Output: 7\n",
    "print(a * b)  # Output: 30\n",
    "print(a / b)  # Output: 3.3333333333333335\n",
    "print(a % b)  # Output: 1\n",
    "print(a ** b) # Output: 1000\n",
    "print(a // b) # Output: 3\n"
   ]
  },
  {
   "cell_type": "code",
   "execution_count": null,
   "id": "385080e7-74b3-4c4d-ba2c-da650d9b8b85",
   "metadata": {},
   "outputs": [],
   "source": [
    "#Comparison (Relational) Operators\n",
    "a = 10\n",
    "b = 3\n",
    "\n",
    "print(a == b)  # Output: False\n",
    "print(a != b)  # Output: True\n",
    "print(a > b)   # Output: True\n",
    "print(a < b)   # Output: False\n",
    "print(a >= b)  # Output: True\n",
    "print(a <= b)  # Output: False\n"
   ]
  },
  {
   "cell_type": "code",
   "execution_count": null,
   "id": "16dde7ac-9dbf-42a1-bc43-4cedbd00be53",
   "metadata": {},
   "outputs": [],
   "source": [
    "#Logical Operators\n",
    "a = True\n",
    "b = False\n",
    "\n",
    "print(a and b)  # Output: False\n",
    "print(a or b)   # Output: True\n",
    "print(not a)    # Output: False\n"
   ]
  },
  {
   "cell_type": "code",
   "execution_count": null,
   "id": "9bb2ded5-72a2-47aa-8057-7d73bead8035",
   "metadata": {},
   "outputs": [],
   "source": [
    "#Assignment Operators\n",
    "a = 10\n",
    "b = 3\n",
    "\n",
    "a += b  # Equivalent to a = a + b\n",
    "print(a)  # Output: 13\n",
    "\n",
    "a -= b  # Equivalent to a = a - b\n",
    "print(a)  # Output: 10\n",
    "\n",
    "a *= b  # Equivalent to a = a * b\n",
    "print(a)  # Output: 30\n",
    "\n",
    "a /= b  # Equivalent to a = a / b\n",
    "print(a)  # Output: 10.0\n",
    "\n",
    "a %= b  # Equivalent to a = a % b\n",
    "print(a)  # Output: 1.0\n",
    "\n",
    "a **= b  # Equivalent to a = a ** b\n",
    "print(a)  # Output: 1.0\n",
    "\n",
    "a //= b  # Equivalent to a = a // b\n",
    "print(a)  # Output: 0.0\n"
   ]
  },
  {
   "cell_type": "code",
   "execution_count": null,
   "id": "6e0226a9-c02e-4f5f-8f9c-1f137a5ceeb4",
   "metadata": {},
   "outputs": [],
   "source": [
    "#Bitwise Operators\n",
    "a = 10  # Binary: 1010\n",
    "b = 3   # Binary: 0011\n",
    "\n",
    "print(a & b)  # Output: 2  (Binary: 0010)\n",
    "print(a | b)  # Output: 11 (Binary: 1011)\n",
    "print(a ^ b)  # Output: 9  (Binary: 1001)\n",
    "print(~a)     # Output: -11 (Binary: -1011)\n",
    "print(a << 1) # Output: 20 (Binary: 10100)\n",
    "print(a >> 1) # Output: 5  (Binary: 0101)\n"
   ]
  },
  {
   "cell_type": "code",
   "execution_count": null,
   "id": "7f119edf-f98c-4f57-8c0a-c4ffa5bda31c",
   "metadata": {},
   "outputs": [],
   "source": [
    "#Identity Operators\n",
    "a = [1, 2, 3]\n",
    "b = a\n",
    "c = [1, 2, 3]\n",
    "\n",
    "print(a is b)     # Output: True\n",
    "print(a is c)     # Output: False\n",
    "print(a is not c) # Output: True\n"
   ]
  },
  {
   "cell_type": "code",
   "execution_count": null,
   "id": "51f33ba5-5b1e-43ac-acc5-cc644e34735c",
   "metadata": {},
   "outputs": [],
   "source": [
    "#Membership Operators\n",
    "my_list = [1, 2, 3, 4, 5]\n",
    "\n",
    "print(3 in my_list)      # Output: True\n",
    "print(6 not in my_list)  # Output: True\n",
    "\n",
    "my_string = \"hello\"\n",
    "print('h' in my_string)      # Output: True\n",
    "print('z' not in my_string)  # Output: True\n"
   ]
  },
  {
   "cell_type": "code",
   "execution_count": null,
   "id": "0b1edc4c-e223-4ad2-b0d3-5d974a539e93",
   "metadata": {},
   "outputs": [],
   "source": [
    "#Type casting, or type conversion, in Python refers to the process of converting a variable from one data type to another. This is useful when you need to perform operations that require a specific data type. Python provides several built-in functions to perform explicit type casting."
   ]
  },
  {
   "cell_type": "code",
   "execution_count": null,
   "id": "ce99ef70-7499-4506-bb11-8bac565677ab",
   "metadata": {},
   "outputs": [],
   "source": [
    "#Implicit type casting:-Python automatically converts one data type to another when performing operations involving mixed data types. This is done to prevent data loss and ensure that operations are performed correctly.\n",
    "# Implicit type casting\n",
    "num_int = 10       # Integer\n",
    "num_float = 3.14   # Float\n",
    "\n",
    "# Adding integer and float results in a float\n",
    "result = num_int + num_float\n",
    "print(result)      # Output: 13.14\n",
    "print(type(result)) # Output: <class 'float'>\n",
    "\n"
   ]
  },
  {
   "cell_type": "code",
   "execution_count": null,
   "id": "ac9a774a-fa2f-4e07-b8cb-a89d10cd37c5",
   "metadata": {},
   "outputs": [],
   "source": [
    "'''Explicit type casting is done using Python's built-in functions:\n",
    "\n",
    "int(): Converts a value to an integer.\n",
    "float(): Converts a value to a float.\n",
    "str(): Converts a value to a string.\n",
    "list(): Converts a value to a list.\n",
    "tuple(): Converts a value to a tuple.\n",
    "set(): Converts a value to a set.\n",
    "dict(): Converts a value to a dictionary (requires a sequence of key-value pairs).'''\n",
    "\n"
   ]
  },
  {
   "cell_type": "code",
   "execution_count": null,
   "id": "f53dcfd1-88fc-48a6-b839-301ec95190dd",
   "metadata": {},
   "outputs": [],
   "source": [
    "#How do conditional statements work in Python? Illustrate with examples\n",
    "#Conditional statements in Python allow you to execute code blocks based on whether a condition is true or false. The primary conditional statements are if, elif, and else"
   ]
  },
  {
   "cell_type": "code",
   "execution_count": null,
   "id": "cae41f70-0d17-4acd-87a7-3816bb5911da",
   "metadata": {},
   "outputs": [],
   "source": [
    "#if Statement\n",
    "number = 5\n",
    "\n",
    "if number > 0:\n",
    "    print(\"The number is positive\")\n"
   ]
  },
  {
   "cell_type": "code",
   "execution_count": null,
   "id": "f9f2b1d6-81f2-4e93-b6b8-eba2d5029b0f",
   "metadata": {},
   "outputs": [],
   "source": [
    "#if-else Statement\n",
    "number = -3\n",
    "\n",
    "if number > 0:\n",
    "    print(\"The number is positive\")\n",
    "else:\n",
    "    print(\"The number is not positive\")\n"
   ]
  },
  {
   "cell_type": "code",
   "execution_count": null,
   "id": "904c5a5a-b2be-413f-a10b-72ca83899479",
   "metadata": {},
   "outputs": [],
   "source": [
    "#if-elif-else Statement\n",
    "number = 0\n",
    "\n",
    "if number > 0:\n",
    "    print(\"The number is positive\")\n",
    "elif number == 0:\n",
    "    print(\"The number is zero\")\n",
    "else:\n",
    "    print(\"The number is negative\")\n"
   ]
  },
  {
   "cell_type": "code",
   "execution_count": null,
   "id": "dd429eaf-36a0-4fb5-9742-a399d477b9a8",
   "metadata": {},
   "outputs": [],
   "source": [
    "#Nested Statement\n",
    "#You can also nest conditional statements inside other conditional statements.\n",
    "number = 15\n",
    "\n",
    "if number > 0:\n",
    "    if number % 2 == 0:\n",
    "        print(\"The number is positive and even\")\n",
    "    else:\n",
    "        print(\"The number is positive and odd\")\n",
    "else:\n",
    "    print(\"The number is not positive\")\n"
   ]
  },
  {
   "cell_type": "code",
   "execution_count": null,
   "id": "98fa7241-0012-4800-9923-6d003926982e",
   "metadata": {},
   "outputs": [],
   "source": [
    "#Describe the different types of loops in Python and their use cases with examples\n",
    "#In Python, there are primarily two types of loops: for loops and while loops. Each type of loop is used for different scenarios depending on the nature of the task.\n",
    "#A for loop is used for iterating over a sequence (such as a list, tuple, dictionary, set, or string) or any other iterable object. The loop iterates over each item in the sequence and executes a block of code."
   ]
  },
  {
   "cell_type": "code",
   "execution_count": null,
   "id": "d654e501-bbb1-48ec-bcb9-9228d273434c",
   "metadata": {},
   "outputs": [],
   "source": [
    "#Iterating over list using for loop\n",
    "fruits = [\"apple\", \"banana\", \"cherry\"]\n",
    "\n",
    "for fruit in fruits:\n",
    "    print(fruit)\n"
   ]
  },
  {
   "cell_type": "code",
   "execution_count": null,
   "id": "87c18e5f-adae-43bd-8ebd-de324db35217",
   "metadata": {},
   "outputs": [],
   "source": [
    "#Iterating over dictionary using for loop\n",
    "student_scores = {\"Alice\": 85, \"Bob\": 92, \"Charlie\": 78}\n",
    "\n",
    "for student, score in student_scores.items():\n",
    "    print(f\"{student} scored {score}\")\n"
   ]
  },
  {
   "cell_type": "code",
   "execution_count": null,
   "id": "5c9951b4-2681-4260-b6fc-6166e5743220",
   "metadata": {},
   "outputs": [],
   "source": [
    "#Iterating over range of numbers using for loop\n",
    "for i in range(5):\n",
    "    print(i)\n"
   ]
  },
  {
   "cell_type": "code",
   "execution_count": null,
   "id": "2912b35b-edbd-4b4f-8d1f-27c11b5358ac",
   "metadata": {},
   "outputs": [],
   "source": [
    "#while loop:- repeatedly executes a block of code as long as a given condition is true. The condition is evaluated before each iteration, and if it remains true, the loop continues.\n",
    "#Simple while loop \n",
    "count = 0\n",
    "\n",
    "while count < 5:\n",
    "    print(count)\n",
    "    count += 1\n"
   ]
  },
  {
   "cell_type": "code",
   "execution_count": null,
   "id": "5937a0f0-73f9-43b6-a3f3-acbf9044d3d4",
   "metadata": {},
   "outputs": [],
   "source": [
    "#Both while and for loop can be used as a nested loop also.\n",
    "matrix = [\n",
    "    [1, 2, 3],\n",
    "    [4, 5, 6],\n",
    "    [7, 8, 9]\n",
    "]\n",
    "\n",
    "for row in matrix:\n",
    "    for element in row:\n",
    "        print(element, end=\" \")\n",
    "    print()\n"
   ]
  },
  {
   "cell_type": "code",
   "execution_count": null,
   "id": "fa2f70e0-6fd3-4537-96af-93c4178a38a5",
   "metadata": {},
   "outputs": [],
   "source": [
    "#loop control Statements:- break,continue and else can be used with both for and while loop depending upon use\n",
    "#Break:- It is used to exit the loop based on whether it meet the specified condition before completion of the loop.\n",
    "#Continue:-It skips the sequence of a body of loop if the speciified condition met for that particular value.\n",
    "#else: Executes a block of code once when the loop condition is no longer true (only for for and while loops, and not if the loop is exited with a bre"
   ]
  },
  {
   "cell_type": "code",
   "execution_count": null,
   "id": "a7da2adc-d88d-4bc8-a7b5-86d5c4c12040",
   "metadata": {},
   "outputs": [],
   "source": [
    "for i in range(10):\n",
    "    if i == 5:\n",
    "        break\n",
    "    if i % 2 == 0:\n",
    "        continue\n",
    "    print(i)\n"
   ]
  }
 ],
 "metadata": {
  "kernelspec": {
   "display_name": "Python 3 (ipykernel)",
   "language": "python",
   "name": "python3"
  },
  "language_info": {
   "codemirror_mode": {
    "name": "ipython",
    "version": 3
   },
   "file_extension": ".py",
   "mimetype": "text/x-python",
   "name": "python",
   "nbconvert_exporter": "python",
   "pygments_lexer": "ipython3",
   "version": "3.10.8"
  }
 },
 "nbformat": 4,
 "nbformat_minor": 5
}
