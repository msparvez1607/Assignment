{
 "cells": [
  {
   "cell_type": "code",
   "execution_count": 18,
   "id": "3b528d36-2abf-41dc-9523-b722c3e102c1",
   "metadata": {},
   "outputs": [],
   "source": [
    "#Write a Python function that takes a list of numbers as input and returns the sum of all even numbers in the list.\n",
    "def sum_even(l):\n",
    "    \n",
    "    return sum( list(map(lambda x: x if x%2==0 else 0,l)))\n",
    "    "
   ]
  },
  {
   "cell_type": "code",
   "execution_count": 19,
   "id": "004124d1-5915-45ff-96e7-12bd204de933",
   "metadata": {},
   "outputs": [
    {
     "data": {
      "text/plain": [
       "6"
      ]
     },
     "execution_count": 19,
     "metadata": {},
     "output_type": "execute_result"
    }
   ],
   "source": [
    "sum_even([2,3,4])"
   ]
  },
  {
   "cell_type": "code",
   "execution_count": 26,
   "id": "c2246f32-ec00-4006-a1f2-da89d0f2bca5",
   "metadata": {},
   "outputs": [],
   "source": [
    "#Create a Python function that accepts a string and returns the reverse of that string\n",
    "def rev_str(word):\n",
    "    return word[::-1]\n"
   ]
  },
  {
   "cell_type": "code",
   "execution_count": 29,
   "id": "6102abdd-d0d7-429b-aa67-4b9cc0778c6d",
   "metadata": {},
   "outputs": [
    {
     "data": {
      "text/plain": [
       "'iJ ihdnaG'"
      ]
     },
     "execution_count": 29,
     "metadata": {},
     "output_type": "execute_result"
    }
   ],
   "source": [
    "a=rev_str('Gandhi Ji')\n",
    "a"
   ]
  },
  {
   "cell_type": "code",
   "execution_count": 31,
   "id": "4b26d752-852a-48f3-98fd-8f2a6ca669bf",
   "metadata": {},
   "outputs": [],
   "source": [
    "#Implement a Python function that takes a list of integers and returns a new list containing the squares of each numbe\n",
    "def square(l):\n",
    "    return list(map(lambda x: x**2,l))\n"
   ]
  },
  {
   "cell_type": "code",
   "execution_count": 32,
   "id": "cdb816b7-d7d4-4e18-8564-14fca10bf234",
   "metadata": {},
   "outputs": [
    {
     "data": {
      "text/plain": [
       "[81, 64, 0, 961, 4]"
      ]
     },
     "execution_count": 32,
     "metadata": {},
     "output_type": "execute_result"
    }
   ],
   "source": [
    "y=square([9,8,0,31,2])\n",
    "y"
   ]
  },
  {
   "cell_type": "code",
   "execution_count": 40,
   "id": "2d342f83-d799-4d4d-a74a-522c48424bfd",
   "metadata": {},
   "outputs": [],
   "source": [
    "#. Write a Python function that checks if a given number is prime or not from 1 to 200\n",
    "def prime():\n",
    "    i=2\n",
    "    l1=[]\n",
    "    while(i<=200):\n",
    "        s=0\n",
    "        for j in range(2,i+1):\n",
    "            if i%j==0:\n",
    "                s+=1\n",
    "        if s<=1:\n",
    "            l1.append(i)\n",
    "        i+=1\n",
    "    return l1"
   ]
  },
  {
   "cell_type": "code",
   "execution_count": 41,
   "id": "33fab7b7-24eb-4192-a81a-e1fa1008741b",
   "metadata": {},
   "outputs": [
    {
     "data": {
      "text/plain": [
       "[2,\n",
       " 3,\n",
       " 5,\n",
       " 7,\n",
       " 11,\n",
       " 13,\n",
       " 17,\n",
       " 19,\n",
       " 23,\n",
       " 29,\n",
       " 31,\n",
       " 37,\n",
       " 41,\n",
       " 43,\n",
       " 47,\n",
       " 53,\n",
       " 59,\n",
       " 61,\n",
       " 67,\n",
       " 71,\n",
       " 73,\n",
       " 79,\n",
       " 83,\n",
       " 89,\n",
       " 97,\n",
       " 101,\n",
       " 103,\n",
       " 107,\n",
       " 109,\n",
       " 113,\n",
       " 127,\n",
       " 131,\n",
       " 137,\n",
       " 139,\n",
       " 149,\n",
       " 151,\n",
       " 157,\n",
       " 163,\n",
       " 167,\n",
       " 173,\n",
       " 179,\n",
       " 181,\n",
       " 191,\n",
       " 193,\n",
       " 197,\n",
       " 199]"
      ]
     },
     "execution_count": 41,
     "metadata": {},
     "output_type": "execute_result"
    }
   ],
   "source": [
    "a=prime()\n",
    "a"
   ]
  },
  {
   "cell_type": "code",
   "execution_count": 7,
   "id": "e02e44f6-e5bf-48e9-9d95-7b89dd7bbc7e",
   "metadata": {},
   "outputs": [
    {
     "name": "stdout",
     "output_type": "stream",
     "text": [
      "0\n",
      "1\n",
      "1\n",
      "2\n",
      "3\n",
      "5\n",
      "8\n",
      "13\n"
     ]
    }
   ],
   "source": [
    "# Create an iterator class in Python that generates the Fibonacci sequence up to a specified number of terms.\n",
    "class Fib:\n",
    "    def __init__(self,limit):\n",
    "        self.limit=limit\n",
    "        self.count=0\n",
    "        self.a=0\n",
    "        self.b=1\n",
    "        \n",
    "    def __iter__(self):\n",
    "        return self\n",
    "    \n",
    "    def __next__(self):\n",
    "        if self.count>=self.limit:\n",
    "            raise StopIteration\n",
    "        elif self.count==0:\n",
    "            self.count+=1\n",
    "            return self.a\n",
    "        elif self.count==1:\n",
    "            self.count+=1\n",
    "            return self.b\n",
    "        else:\n",
    "            self.a,self.b=self.b,self.a+self.b\n",
    "            self.count+=1\n",
    "            return self.b\n",
    "            \n",
    "            \n",
    "            \n",
    "for i in Fib(8):\n",
    "    print(i)\n",
    "            \n",
    "            \n",
    "\n",
    "            \n",
    "\n",
    "   \n",
    "        \n",
    "        \n",
    "        \n",
    "            \n",
    "        \n",
    "\n",
    "    \n",
    "\n",
    "       \n",
    "        \n",
    "        "
   ]
  },
  {
   "cell_type": "code",
   "execution_count": 13,
   "id": "16ae8241-c461-4e16-a401-2252e049c518",
   "metadata": {},
   "outputs": [],
   "source": [
    "#Write a generator function in Python that yields the powers of 2 up to a given exponent.\n",
    "def pow_fun(n):\n",
    "    for i in range(n+1):\n",
    "        yield 2**i\n"
   ]
  },
  {
   "cell_type": "code",
   "execution_count": 12,
   "id": "8f2a60d2-7f3b-4abb-91c5-a51c87d1b956",
   "metadata": {},
   "outputs": [
    {
     "name": "stdout",
     "output_type": "stream",
     "text": [
      "1\n",
      "2\n",
      "4\n",
      "8\n",
      "16\n"
     ]
    }
   ],
   "source": [
    "a=pow_fun(4)\n",
    "for j in pow_fun(4):\n",
    "    print(next(a))"
   ]
  },
  {
   "cell_type": "code",
   "execution_count": null,
   "id": "208e4fdc-b04e-4d19-8efe-ee11253193d2",
   "metadata": {},
   "outputs": [],
   "source": [
    "def read_by_line(n):\n",
    "    for i in n:\n",
    "        \n",
    "            "
   ]
  },
  {
   "cell_type": "code",
   "execution_count": 31,
   "id": "3d115498-98ff-48d6-bbf5-0d6e14e34b9d",
   "metadata": {},
   "outputs": [
    {
     "data": {
      "text/plain": [
       "3"
      ]
     },
     "execution_count": 31,
     "metadata": {},
     "output_type": "execute_result"
    }
   ],
   "source": [
    "\n",
    "    \n"
   ]
  },
  {
   "cell_type": "code",
   "execution_count": null,
   "id": "6aa00baa-43a8-46d9-bcc2-89ad1cf41f95",
   "metadata": {},
   "outputs": [],
   "source": []
  }
 ],
 "metadata": {
  "kernelspec": {
   "display_name": "Python 3 (ipykernel)",
   "language": "python",
   "name": "python3"
  },
  "language_info": {
   "codemirror_mode": {
    "name": "ipython",
    "version": 3
   },
   "file_extension": ".py",
   "mimetype": "text/x-python",
   "name": "python",
   "nbconvert_exporter": "python",
   "pygments_lexer": "ipython3",
   "version": "3.10.8"
  }
 },
 "nbformat": 4,
 "nbformat_minor": 5
}
