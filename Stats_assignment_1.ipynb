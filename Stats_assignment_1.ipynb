{
 "cells": [
  {
   "cell_type": "markdown",
   "id": "19609124-7b6f-4fb3-93c8-7ed664ea8f08",
   "metadata": {},
   "source": [
    "Q-1)Explain the different types of data (qualitative and quantitative) and provide examples of each. Discuss nominal, ordinal, interval, and ratio scales.\n",
    "A-1) Quantitative data - Any measurable quantity. Further categorised into two categories:\n",
    "a)Discrete data - Only whole number values are present. Eg- Number of children in school etc.\n",
    "b)Continuous data - Can take any real value. Eg- Height, weight of student etc.\n",
    "Qualitative data - Refers to non-numerical data. Categorised into:\n",
    "a)Nominal - Any non-numerical, value not in any specific order. Eg - colours, fruit name etc.\n",
    "b)Ordinal - Can take only few values related to the parameter i.e. only ordered categorical data. Eg- Gender, Rank, Grades, etc.\n",
    "\n",
    "\n",
    "Scales:\n",
    "Interval scale:- For quantitative data. No zero starting point, is ordered and has a sense when we take out difference.\n",
    "Eg- Height of a studnet in class, Temperature of a room, etc.\n",
    "Ratio scale data:- Used for quantitative data. Have zero starting point, is ordered and has a sense when we take out difference.\n",
    "Eg- Height of a student, etc.\n",
    "Nominal scale data:- Used for categorical data. Not ordered, does not have zero starting point and difference does not make any sense(can't be calculated)\n",
    "Ordinal scale data: Used for categorical data. Ordered, does not have zero starting point and difference does not make sense."
   ]
  },
  {
   "cell_type": "markdown",
   "id": "1c757ef6-a898-4577-b2ca-a0d920681198",
   "metadata": {},
   "source": [
    "Q-2)What are the measures of central tendency, and when should you use each? Discuss the mean, median, and mode with examples and situations where each is appropriate\n",
    "A-2)Central tendency basically measure the central value of the given set of data.\n",
    "Mean- Central value affected by outliers. Can be used to measure the CT of a given quantitative set of data when there is no outlier present in a data.\n",
    "Median- Actual central value not affected by outliers. Used when there is outlier present in a given quantitative data.\n",
    "Mode- Used for categorical data to find out the value having maximum sense of occurence."
   ]
  },
  {
   "cell_type": "markdown",
   "id": "aab8eb69-a518-48b1-950e-489780c392aa",
   "metadata": {},
   "source": [
    "Q-3)Explain the concept of dispersion. How do variance and standard deviation measure the spread of data ?\n",
    "A-3)Dispersion is the measure of how far the individual points are spreaded out compared to the mean of the given data.\n",
    "Variance is calculated by taking sum of squares of difference of each point with mean divided by the number of data points whereas if we take the square root of the variance we get another parameter to measure dispersion known as standard deviation."
   ]
  },
  {
   "cell_type": "markdown",
   "id": "d11e2bb9-ce33-416a-92bb-02f9c22175ff",
   "metadata": {},
   "source": [
    "Q-4)What is a box plot, and what can it tell you about the distribution of data?\n",
    "A-4) A boxplot is a type of plot that can summarise the five point summary for the given dataset graphically.\n",
    "It tells about the spread of the given dataset and also it gives the idea about the points that are outliers in the given data by calculating inter quartile range which is the difference of Q3-Q1 , if the point lie behind/below lower fence and lie above/ahead of upper fence then these points are categorised as outlier."
   ]
  },
  {
   "cell_type": "markdown",
   "id": "d7d8977b-7d91-4500-8b91-413d6ff8cb39",
   "metadata": {},
   "source": [
    "Q-5)Discuss the role of random sampling in making inferences about populations\n",
    "A-5)Random sampling is the type of sampling in which there is a equal possibilty of each member from a given population thus reducing biasness to be included into a sample and make valid inference about given population. Major drawback of random sampling is that a certain group is not included into a sample from a large set of population."
   ]
  },
  {
   "cell_type": "markdown",
   "id": "f7f2ef75-978f-41c2-b92d-c364663a6932",
   "metadata": {},
   "source": [
    "Q-6)Explain the concept of skewness and its types. How does skewness affect the interpretation of data?\n",
    "A-6)Skewness measures data asymmetry:\n",
    "Positive skewness(Right skewed):-Tail is on the right side of the data and mean>median>mode.\n",
    "Negative skewness(Left skewed):-Tail is on the left side of the data and mode>median>mean.\n",
    "Skewness affects the central tendency measure; the mean is not reliable for skewed data.\n"
   ]
  },
  {
   "cell_type": "markdown",
   "id": "02ccb321-b1bb-4a28-9aec-ce7e05da1c07",
   "metadata": {},
   "source": [
    "Q-7) What is the interquartile range (IQR), and how is it used to detect outliers?\n",
    "A-7)Interquartile range is the difference between Q3 and Q1, and this IQR is used to find out whether the given point is outlier or not.\n",
    "Lower fence:-  (Q1-1.5*IQR) if a given point is less than this lower fence then it is an outlier.`\n",
    "Uper fence:-   (Q3+1.5*IQR) if a given point is greater than this upper fence then it is an outlier."
   ]
  },
  {
   "cell_type": "markdown",
   "id": "76856b2d-c564-4e9c-b096-0174f84073ea",
   "metadata": {},
   "source": [
    "Q-8)Discuss the conditions under which the binomial distribution is used.\n",
    "A-8)Conditions:-When number of trial is fixed\n",
    "Only two possibilities either success or failure\n",
    "Probability of success is constant\n",
    "Trials are independent.\n"
   ]
  },
  {
   "cell_type": "markdown",
   "id": "a7b5e347-632e-459f-a177-d6b9f6970bcb",
   "metadata": {},
   "source": [
    "Q-9)Explain the properties of the normal distribution and the empirical rule (68-95-99.7) rule.\n",
    "A-9)Bell shaped and symmetric\n",
    "Mean=median=mode\n",
    "68% of data within ±1 standard deviation of the mean.\n",
    "95% of data within ±2 standard deviation of the mean.\n",
    "99.7% of data within ±3 standard deviation of the mean.\n"
   ]
  },
  {
   "cell_type": "markdown",
   "id": "155349d0-c967-4383-abbc-b1264e0e13d2",
   "metadata": {},
   "source": [
    "Q-10) Provide a real-life example of a Poisson process and calculate the probability for a specific event.\n",
    "A-10)Real-life example: Number of calls received by a call center per hour\n",
    "λ = 5 calls/hour, the probability of receiving 7 calls (k = 7) in an hour: P(X=k) = λ^k * e^{-λ} / k!\n",
    "therefore, P(x=7)=5^7*e^{-5}/7!=0.10444"
   ]
  },
  {
   "cell_type": "markdown",
   "id": "36a0ea05-5d6f-43a2-baeb-73c281bf7aad",
   "metadata": {},
   "source": [
    "Q-11)Explain what a random variable is and differentiate between discrete and continuous random variables\n",
    "A-11)Numerical value that represents the outcome of a random phenomenon or experiment.\n",
    "Discrete random variable:-Take finite values (e.g., number of students).\n",
    "Continuous random variable:-Take any value within a range (e.g., height).\n"
   ]
  },
  {
   "cell_type": "markdown",
   "id": "f5f47ce1-e23c-48fe-8e90-5e9b90b0ee16",
   "metadata": {},
   "source": [
    "Q-12)Provide an example dataset, calculate both covariance and correlation, and interpret the results\n"
   ]
  },
  {
   "cell_type": "code",
   "execution_count": 1,
   "id": "ba6dd62e-5317-4e3b-89dd-2ce1a72285c1",
   "metadata": {},
   "outputs": [
    {
     "data": {
      "text/plain": [
       "array([[  3.5,  21.7],\n",
       "       [ 21.7, 153.9]])"
      ]
     },
     "execution_count": 1,
     "metadata": {},
     "output_type": "execute_result"
    }
   ],
   "source": [
    "import numpy as np\n",
    "x=[1,2,3,4,5,6]\n",
    "y=[11,14,16,19,32,43]\n",
    "cov_mat=np.cov(x,y)"
   ]
  },
  {
   "cell_type": "code",
   "execution_count": 3,
   "id": "740b4478-a2c2-4ef9-a3d3-a0ecd0ea9a68",
   "metadata": {},
   "outputs": [
    {
     "data": {
      "text/plain": [
       "array([[1.        , 0.93498879],\n",
       "       [0.93498879, 1.        ]])"
      ]
     },
     "execution_count": 3,
     "metadata": {},
     "output_type": "execute_result"
    }
   ],
   "source": [
    "corr_mat=np.corrcoef(x,y)\n",
    "corr_mat"
   ]
  },
  {
   "cell_type": "code",
   "execution_count": null,
   "id": "6a3c70fd-105a-4320-af3c-b76e69dd9056",
   "metadata": {},
   "outputs": [],
   "source": []
  }
 ],
 "metadata": {
  "kernelspec": {
   "display_name": "Python 3 (ipykernel)",
   "language": "python",
   "name": "python3"
  },
  "language_info": {
   "codemirror_mode": {
    "name": "ipython",
    "version": 3
   },
   "file_extension": ".py",
   "mimetype": "text/x-python",
   "name": "python",
   "nbconvert_exporter": "python",
   "pygments_lexer": "ipython3",
   "version": "3.11.7"
  }
 },
 "nbformat": 4,
 "nbformat_minor": 5
}
